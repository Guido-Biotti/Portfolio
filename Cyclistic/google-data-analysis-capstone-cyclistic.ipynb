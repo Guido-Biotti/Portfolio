{
 "cells": [
  {
   "cell_type": "markdown",
   "id": "0915d3aa",
   "metadata": {
    "papermill": {
     "duration": 0.005853,
     "end_time": "2023-03-28T14:23:33.753930",
     "exception": false,
     "start_time": "2023-03-28T14:23:33.748077",
     "status": "completed"
    },
    "tags": []
   },
   "source": [
    "# Google Data Analytics Certificate Capstone Project:\n",
    "\n",
    "This is my Capstone Project for the Course of Google Data Analytics Specialization and my first ever project in data.\n",
    "In this capstone I had to find the differences about the casual riders and the members from Cyclistic a fictional bike sharing company.\n",
    "\n",
    "## Ask Phase:\n",
    "I was assigned to answer the question: How do annual members and casual riders use Cyclistic differently?\n",
    "The data I'll use is data from Cyclistic. This is a fictional company created for this capstone. The data was made available under this [license](https://ride.divvybikes.com/data-license-agreement)\n",
    "\n",
    "## Prepare Phase:\n",
    "I'm using this [dataset](https://www.kaggle.com/datasets/fernandomartinezt/google-casestudy-1-2022-2023) that has all the data of Cyclistic from 2022.\n",
    "To verify data's integrity I checked if if the columns matched and if there were some blank cells or errors."
   ]
  },
  {
   "cell_type": "markdown",
   "id": "5f00ff2e",
   "metadata": {
    "papermill": {
     "duration": 0.004188,
     "end_time": "2023-03-28T14:23:33.763371",
     "exception": false,
     "start_time": "2023-03-28T14:23:33.759183",
     "status": "completed"
    },
    "tags": []
   },
   "source": [
    "First I initialized the libraries I'll use for this project"
   ]
  },
  {
   "cell_type": "code",
   "execution_count": 1,
   "id": "fb1decc6",
   "metadata": {
    "execution": {
     "iopub.execute_input": "2023-03-28T14:23:33.777396Z",
     "iopub.status.busy": "2023-03-28T14:23:33.774784Z",
     "iopub.status.idle": "2023-03-28T14:23:35.331958Z",
     "shell.execute_reply": "2023-03-28T14:23:35.330096Z"
    },
    "papermill": {
     "duration": 1.566561,
     "end_time": "2023-03-28T14:23:35.334226",
     "exception": false,
     "start_time": "2023-03-28T14:23:33.767665",
     "status": "completed"
    },
    "tags": []
   },
   "outputs": [
    {
     "name": "stderr",
     "output_type": "stream",
     "text": [
      "── \u001b[1mAttaching packages\u001b[22m ─────────────────────────────────────── tidyverse 1.3.2 ──\n",
      "\u001b[32m✔\u001b[39m \u001b[34mtibble \u001b[39m 3.1.8      \u001b[32m✔\u001b[39m \u001b[34mdplyr  \u001b[39m 1.0.10\n",
      "\u001b[32m✔\u001b[39m \u001b[34mtidyr  \u001b[39m 1.2.1      \u001b[32m✔\u001b[39m \u001b[34mstringr\u001b[39m 1.5.0 \n",
      "\u001b[32m✔\u001b[39m \u001b[34mreadr  \u001b[39m 2.1.3      \u001b[32m✔\u001b[39m \u001b[34mforcats\u001b[39m 0.5.2 \n",
      "\u001b[32m✔\u001b[39m \u001b[34mpurrr  \u001b[39m 1.0.1      \n",
      "── \u001b[1mConflicts\u001b[22m ────────────────────────────────────────── tidyverse_conflicts() ──\n",
      "\u001b[31m✖\u001b[39m \u001b[34mdplyr\u001b[39m::\u001b[32mfilter()\u001b[39m masks \u001b[34mstats\u001b[39m::filter()\n",
      "\u001b[31m✖\u001b[39m \u001b[34mdplyr\u001b[39m::\u001b[32mlag()\u001b[39m    masks \u001b[34mstats\u001b[39m::lag()\n",
      "Loading required package: timechange\n",
      "\n",
      "\n",
      "Attaching package: ‘lubridate’\n",
      "\n",
      "\n",
      "The following objects are masked from ‘package:base’:\n",
      "\n",
      "    date, intersect, setdiff, union\n",
      "\n",
      "\n"
     ]
    }
   ],
   "source": [
    "library(\"ggplot2\")\n",
    "library(\"tidyverse\")\n",
    "library(\"lubridate\")"
   ]
  },
  {
   "cell_type": "markdown",
   "id": "b5ec70b5",
   "metadata": {
    "papermill": {
     "duration": 0.004665,
     "end_time": "2023-03-28T14:23:35.343787",
     "exception": false,
     "start_time": "2023-03-28T14:23:35.339122",
     "status": "completed"
    },
    "tags": []
   },
   "source": [
    "I red every .csv I needed and checked the integrity using the str() function. Then i joined all of them in one.\n",
    "After this I removed the data that won't help me answer the question and cleaned the memory so the program would run smoothly."
   ]
  },
  {
   "cell_type": "code",
   "execution_count": 2,
   "id": "1ab56c46",
   "metadata": {
    "execution": {
     "iopub.execute_input": "2023-03-28T14:23:35.392202Z",
     "iopub.status.busy": "2023-03-28T14:23:35.354724Z",
     "iopub.status.idle": "2023-03-28T14:25:26.450628Z",
     "shell.execute_reply": "2023-03-28T14:25:26.448935Z"
    },
    "papermill": {
     "duration": 111.105603,
     "end_time": "2023-03-28T14:25:26.454053",
     "exception": false,
     "start_time": "2023-03-28T14:23:35.348450",
     "status": "completed"
    },
    "tags": []
   },
   "outputs": [
    {
     "name": "stdout",
     "output_type": "stream",
     "text": [
      "'data.frame':\t103770 obs. of  13 variables:\n",
      " $ ride_id           : chr  \"C2F7DD78E82EC875\" \"A6CF8980A652D272\" \"BD0F91DFF741C66D\" \"CBB80ED419105406\" ...\n",
      " $ rideable_type     : chr  \"electric_bike\" \"electric_bike\" \"classic_bike\" \"classic_bike\" ...\n",
      " $ started_at        : chr  \"2022-01-13 11:59:47\" \"2022-01-10 08:41:56\" \"2022-01-25 04:53:40\" \"2022-01-04 00:18:04\" ...\n",
      " $ ended_at          : chr  \"2022-01-13 12:02:44\" \"2022-01-10 08:46:17\" \"2022-01-25 04:58:01\" \"2022-01-04 00:33:00\" ...\n",
      " $ start_station_name: chr  \"Glenwood Ave & Touhy Ave\" \"Glenwood Ave & Touhy Ave\" \"Sheffield Ave & Fullerton Ave\" \"Clark St & Bryn Mawr Ave\" ...\n",
      " $ start_station_id  : chr  \"525\" \"525\" \"TA1306000016\" \"KA1504000151\" ...\n",
      " $ end_station_name  : chr  \"Clark St & Touhy Ave\" \"Clark St & Touhy Ave\" \"Greenview Ave & Fullerton Ave\" \"Paulina St & Montrose Ave\" ...\n",
      " $ end_station_id    : chr  \"RP-007\" \"RP-007\" \"TA1307000001\" \"TA1309000021\" ...\n",
      " $ start_lat         : num  42 42 41.9 42 41.9 ...\n",
      " $ start_lng         : num  -87.7 -87.7 -87.7 -87.7 -87.6 ...\n",
      " $ end_lat           : num  42 42 41.9 42 41.9 ...\n",
      " $ end_lng           : num  -87.7 -87.7 -87.7 -87.7 -87.6 ...\n",
      " $ member_casual     : chr  \"casual\" \"casual\" \"member\" \"casual\" ...\n",
      "'data.frame':\t115609 obs. of  13 variables:\n",
      " $ ride_id           : chr  \"E1E065E7ED285C02\" \"1602DCDC5B30FFE3\" \"BE7DD2AF4B55C4AF\" \"A1789BDF844412BE\" ...\n",
      " $ rideable_type     : chr  \"classic_bike\" \"classic_bike\" \"classic_bike\" \"classic_bike\" ...\n",
      " $ started_at        : chr  \"2022-02-19 18:08:41\" \"2022-02-20 17:41:30\" \"2022-02-25 18:55:56\" \"2022-02-14 11:57:03\" ...\n",
      " $ ended_at          : chr  \"2022-02-19 18:23:56\" \"2022-02-20 17:45:56\" \"2022-02-25 19:09:34\" \"2022-02-14 12:04:00\" ...\n",
      " $ start_station_name: chr  \"State St & Randolph St\" \"Halsted St & Wrightwood Ave\" \"State St & Randolph St\" \"Southport Ave & Waveland Ave\" ...\n",
      " $ start_station_id  : chr  \"TA1305000029\" \"TA1309000061\" \"TA1305000029\" \"13235\" ...\n",
      " $ end_station_name  : chr  \"Clark St & Lincoln Ave\" \"Southport Ave & Wrightwood Ave\" \"Canal St & Adams St\" \"Broadway & Sheridan Rd\" ...\n",
      " $ end_station_id    : chr  \"13179\" \"TA1307000113\" \"13011\" \"13323\" ...\n",
      " $ start_lat         : num  41.9 41.9 41.9 41.9 41.9 ...\n",
      " $ start_lng         : num  -87.6 -87.6 -87.6 -87.7 -87.6 ...\n",
      " $ end_lat           : num  41.9 41.9 41.9 42 41.9 ...\n",
      " $ end_lng           : num  -87.6 -87.7 -87.6 -87.6 -87.6 ...\n",
      " $ member_casual     : chr  \"member\" \"member\" \"member\" \"member\" ...\n",
      "'data.frame':\t284042 obs. of  13 variables:\n",
      " $ ride_id           : chr  \"47EC0A7F82E65D52\" \"8494861979B0F477\" \"EFE527AF80B66109\" \"9F446FD9DEE3F389\" ...\n",
      " $ rideable_type     : chr  \"classic_bike\" \"electric_bike\" \"classic_bike\" \"classic_bike\" ...\n",
      " $ started_at        : chr  \"2022-03-21 13:45:01\" \"2022-03-16 09:37:16\" \"2022-03-23 19:52:02\" \"2022-03-01 19:12:26\" ...\n",
      " $ ended_at          : chr  \"2022-03-21 13:51:18\" \"2022-03-16 09:43:34\" \"2022-03-23 19:54:48\" \"2022-03-01 19:22:14\" ...\n",
      " $ start_station_name: chr  \"Wabash Ave & Wacker Pl\" \"Michigan Ave & Oak St\" \"Broadway & Berwyn Ave\" \"Wabash Ave & Wacker Pl\" ...\n",
      " $ start_station_id  : chr  \"TA1307000131\" \"13042\" \"13109\" \"TA1307000131\" ...\n",
      " $ end_station_name  : chr  \"Kingsbury St & Kinzie St\" \"Orleans St & Chestnut St (NEXT Apts)\" \"Broadway & Ridge Ave\" \"Franklin St & Jackson Blvd\" ...\n",
      " $ end_station_id    : chr  \"KA1503000043\" \"620\" \"15578\" \"TA1305000025\" ...\n",
      " $ start_lat         : num  41.9 41.9 42 41.9 41.9 ...\n",
      " $ start_lng         : num  -87.6 -87.6 -87.7 -87.6 -87.6 ...\n",
      " $ end_lat           : num  41.9 41.9 42 41.9 41.9 ...\n",
      " $ end_lng           : num  -87.6 -87.6 -87.7 -87.6 -87.7 ...\n",
      " $ member_casual     : chr  \"member\" \"member\" \"member\" \"member\" ...\n",
      "'data.frame':\t371249 obs. of  13 variables:\n",
      " $ ride_id           : chr  \"3564070EEFD12711\" \"0B820C7FCF22F489\" \"89EEEE32293F07FF\" \"84D4751AEB31888D\" ...\n",
      " $ rideable_type     : chr  \"electric_bike\" \"classic_bike\" \"classic_bike\" \"classic_bike\" ...\n",
      " $ started_at        : chr  \"2022-04-06 17:42:48\" \"2022-04-24 19:23:07\" \"2022-04-20 19:29:08\" \"2022-04-22 21:14:06\" ...\n",
      " $ ended_at          : chr  \"2022-04-06 17:54:36\" \"2022-04-24 19:43:17\" \"2022-04-20 19:35:16\" \"2022-04-22 21:23:29\" ...\n",
      " $ start_station_name: chr  \"Paulina St & Howard St\" \"Wentworth Ave & Cermak Rd\" \"Halsted St & Polk St\" \"Wentworth Ave & Cermak Rd\" ...\n",
      " $ start_station_id  : chr  \"515\" \"13075\" \"TA1307000121\" \"13075\" ...\n",
      " $ end_station_name  : chr  \"University Library (NU)\" \"Green St & Madison St\" \"Green St & Madison St\" \"Delano Ct & Roosevelt Rd\" ...\n",
      " $ end_station_id    : chr  \"605\" \"TA1307000120\" \"TA1307000120\" \"KA1706005007\" ...\n",
      " $ start_lat         : num  42 41.9 41.9 41.9 41.9 ...\n",
      " $ start_lng         : num  -87.7 -87.6 -87.6 -87.6 -87.6 ...\n",
      " $ end_lat           : num  42.1 41.9 41.9 41.9 41.9 ...\n",
      " $ end_lng           : num  -87.7 -87.6 -87.6 -87.6 -87.6 ...\n",
      " $ member_casual     : chr  \"member\" \"member\" \"member\" \"casual\" ...\n",
      "'data.frame':\t634858 obs. of  13 variables:\n",
      " $ ride_id           : chr  \"EC2DE40644C6B0F4\" \"1C31AD03897EE385\" \"1542FBEC830415CF\" \"6FF59852924528F8\" ...\n",
      " $ rideable_type     : chr  \"classic_bike\" \"classic_bike\" \"classic_bike\" \"classic_bike\" ...\n",
      " $ started_at        : chr  \"2022-05-23 23:06:58\" \"2022-05-11 08:53:28\" \"2022-05-26 18:36:28\" \"2022-05-10 07:30:07\" ...\n",
      " $ ended_at          : chr  \"2022-05-23 23:40:19\" \"2022-05-11 09:31:22\" \"2022-05-26 18:58:18\" \"2022-05-10 07:38:49\" ...\n",
      " $ start_station_name: chr  \"Wabash Ave & Grand Ave\" \"DuSable Lake Shore Dr & Monroe St\" \"Clinton St & Madison St\" \"Clinton St & Madison St\" ...\n",
      " $ start_station_id  : chr  \"TA1307000117\" \"13300\" \"TA1305000032\" \"TA1305000032\" ...\n",
      " $ end_station_name  : chr  \"Halsted St & Roscoe St\" \"Field Blvd & South Water St\" \"Wood St & Milwaukee Ave\" \"Clark St & Randolph St\" ...\n",
      " $ end_station_id    : chr  \"TA1309000025\" \"15534\" \"13221\" \"TA1305000030\" ...\n",
      " $ start_lat         : num  41.9 41.9 41.9 41.9 41.9 ...\n",
      " $ start_lng         : num  -87.6 -87.6 -87.6 -87.6 -87.6 ...\n",
      " $ end_lat           : num  41.9 41.9 41.9 41.9 41.9 ...\n",
      " $ end_lng           : num  -87.6 -87.6 -87.7 -87.6 -87.7 ...\n",
      " $ member_casual     : chr  \"member\" \"member\" \"member\" \"member\" ...\n",
      "'data.frame':\t769204 obs. of  13 variables:\n",
      " $ ride_id           : chr  \"600CFD130D0FD2A4\" \"F5E6B5C1682C6464\" \"B6EB6D27BAD771D2\" \"C9C320375DE1D5C6\" ...\n",
      " $ rideable_type     : chr  \"electric_bike\" \"electric_bike\" \"electric_bike\" \"electric_bike\" ...\n",
      " $ started_at        : chr  \"2022-06-30 17:27:53\" \"2022-06-30 18:39:52\" \"2022-06-30 11:49:25\" \"2022-06-30 11:15:25\" ...\n",
      " $ ended_at          : chr  \"2022-06-30 17:35:15\" \"2022-06-30 18:47:28\" \"2022-06-30 12:02:54\" \"2022-06-30 11:19:43\" ...\n",
      " $ start_station_name: chr  \"\" \"\" \"\" \"\" ...\n",
      " $ start_station_id  : chr  \"\" \"\" \"\" \"\" ...\n",
      " $ end_station_name  : chr  \"\" \"\" \"\" \"\" ...\n",
      " $ end_station_id    : chr  \"\" \"\" \"\" \"\" ...\n",
      " $ start_lat         : num  41.9 41.9 41.9 41.8 41.9 ...\n",
      " $ start_lng         : num  -87.6 -87.6 -87.7 -87.7 -87.6 ...\n",
      " $ end_lat           : num  41.9 41.9 41.9 41.8 41.9 ...\n",
      " $ end_lng           : num  -87.6 -87.6 -87.6 -87.7 -87.6 ...\n",
      " $ member_casual     : chr  \"casual\" \"casual\" \"casual\" \"casual\" ...\n",
      "'data.frame':\t823488 obs. of  13 variables:\n",
      " $ ride_id           : chr  \"954144C2F67B1932\" \"292E027607D218B6\" \"57765852588AD6E0\" \"B5B6BE44314590E6\" ...\n",
      " $ rideable_type     : chr  \"classic_bike\" \"classic_bike\" \"classic_bike\" \"classic_bike\" ...\n",
      " $ started_at        : chr  \"2022-07-05 08:12:47\" \"2022-07-26 12:53:38\" \"2022-07-03 13:58:49\" \"2022-07-31 17:44:21\" ...\n",
      " $ ended_at          : chr  \"2022-07-05 08:24:32\" \"2022-07-26 12:55:31\" \"2022-07-03 14:06:32\" \"2022-07-31 18:42:50\" ...\n",
      " $ start_station_name: chr  \"Ashland Ave & Blackhawk St\" \"Buckingham Fountain (Temp)\" \"Buckingham Fountain (Temp)\" \"Buckingham Fountain (Temp)\" ...\n",
      " $ start_station_id  : chr  \"13224\" \"15541\" \"15541\" \"15541\" ...\n",
      " $ end_station_name  : chr  \"Kingsbury St & Kinzie St\" \"Michigan Ave & 8th St\" \"Michigan Ave & 8th St\" \"Woodlawn Ave & 55th St\" ...\n",
      " $ end_station_id    : chr  \"KA1503000043\" \"623\" \"623\" \"TA1307000164\" ...\n",
      " $ start_lat         : num  41.9 41.9 41.9 41.9 41.9 ...\n",
      " $ start_lng         : num  -87.7 -87.6 -87.6 -87.6 -87.6 ...\n",
      " $ end_lat           : num  41.9 41.9 41.9 41.8 41.9 ...\n",
      " $ end_lng           : num  -87.6 -87.6 -87.6 -87.6 -87.7 ...\n",
      " $ member_casual     : chr  \"member\" \"casual\" \"casual\" \"casual\" ...\n",
      "'data.frame':\t785932 obs. of  13 variables:\n",
      " $ ride_id           : chr  \"550CF7EFEAE0C618\" \"DAD198F405F9C5F5\" \"E6F2BC47B65CB7FD\" \"F597830181C2E13C\" ...\n",
      " $ rideable_type     : chr  \"electric_bike\" \"electric_bike\" \"electric_bike\" \"electric_bike\" ...\n",
      " $ started_at        : chr  \"2022-08-07 21:34:15\" \"2022-08-08 14:39:21\" \"2022-08-08 15:29:50\" \"2022-08-08 02:43:50\" ...\n",
      " $ ended_at          : chr  \"2022-08-07 21:41:46\" \"2022-08-08 14:53:23\" \"2022-08-08 15:40:34\" \"2022-08-08 02:58:53\" ...\n",
      " $ start_station_name: chr  \"\" \"\" \"\" \"\" ...\n",
      " $ start_station_id  : chr  \"\" \"\" \"\" \"\" ...\n",
      " $ end_station_name  : chr  \"\" \"\" \"\" \"\" ...\n",
      " $ end_station_id    : chr  \"\" \"\" \"\" \"\" ...\n",
      " $ start_lat         : num  41.9 41.9 42 41.9 41.9 ...\n",
      " $ start_lng         : num  -87.7 -87.6 -87.7 -87.7 -87.7 ...\n",
      " $ end_lat           : num  41.9 41.9 42 42 41.8 ...\n",
      " $ end_lng           : num  -87.7 -87.6 -87.7 -87.7 -87.7 ...\n",
      " $ member_casual     : chr  \"casual\" \"casual\" \"casual\" \"casual\" ...\n",
      "'data.frame':\t701339 obs. of  13 variables:\n",
      " $ ride_id           : chr  \"5156990AC19CA285\" \"E12D4A16BF51C274\" \"A02B53CD7DB72DD7\" \"C82E05FEE872DF11\" ...\n",
      " $ rideable_type     : chr  \"electric_bike\" \"electric_bike\" \"electric_bike\" \"electric_bike\" ...\n",
      " $ started_at        : chr  \"2022-09-01 08:36:22\" \"2022-09-01 17:11:29\" \"2022-09-01 17:15:50\" \"2022-09-01 09:00:28\" ...\n",
      " $ ended_at          : chr  \"2022-09-01 08:39:05\" \"2022-09-01 17:14:45\" \"2022-09-01 17:16:12\" \"2022-09-01 09:10:32\" ...\n",
      " $ start_station_name: chr  \"\" \"\" \"\" \"\" ...\n",
      " $ start_station_id  : chr  \"\" \"\" \"\" \"\" ...\n",
      " $ end_station_name  : chr  \"California Ave & Milwaukee Ave\" \"\" \"\" \"\" ...\n",
      " $ end_station_id    : chr  \"13084\" \"\" \"\" \"\" ...\n",
      " $ start_lat         : num  41.9 41.9 41.9 41.9 41.9 ...\n",
      " $ start_lng         : num  -87.7 -87.6 -87.6 -87.7 -87.7 ...\n",
      " $ end_lat           : num  41.9 41.9 41.9 41.9 41.9 ...\n",
      " $ end_lng           : num  -87.7 -87.6 -87.6 -87.7 -87.7 ...\n",
      " $ member_casual     : chr  \"casual\" \"casual\" \"casual\" \"casual\" ...\n",
      "'data.frame':\t558685 obs. of  13 variables:\n",
      " $ ride_id           : chr  \"A50255C1E17942AB\" \"DB692A70BD2DD4E3\" \"3C02727AAF60F873\" \"47E653FDC2D99236\" ...\n",
      " $ rideable_type     : chr  \"classic_bike\" \"electric_bike\" \"electric_bike\" \"electric_bike\" ...\n",
      " $ started_at        : chr  \"2022-10-14 17:13:30\" \"2022-10-01 16:29:26\" \"2022-10-19 18:55:40\" \"2022-10-31 07:52:36\" ...\n",
      " $ ended_at          : chr  \"2022-10-14 17:19:39\" \"2022-10-01 16:49:06\" \"2022-10-19 19:03:30\" \"2022-10-31 07:58:49\" ...\n",
      " $ start_station_name: chr  \"Noble St & Milwaukee Ave\" \"Damen Ave & Charleston St\" \"Hoyne Ave & Balmoral Ave\" \"Rush St & Cedar St\" ...\n",
      " $ start_station_id  : chr  \"13290\" \"13288\" \"655\" \"KA1504000133\" ...\n",
      " $ end_station_name  : chr  \"Larrabee St & Division St\" \"Damen Ave & Cullerton St\" \"Western Ave & Leland Ave\" \"Orleans St & Chestnut St (NEXT Apts)\" ...\n",
      " $ end_station_id    : chr  \"KA1504000079\" \"13089\" \"TA1307000140\" \"620\" ...\n",
      " $ start_lat         : num  41.9 41.9 42 41.9 41.9 ...\n",
      " $ start_lng         : num  -87.7 -87.7 -87.7 -87.6 -87.6 ...\n",
      " $ end_lat           : num  41.9 41.9 42 41.9 41.9 ...\n",
      " $ end_lng           : num  -87.6 -87.7 -87.7 -87.6 -87.6 ...\n",
      " $ member_casual     : chr  \"member\" \"casual\" \"member\" \"member\" ...\n",
      "'data.frame':\t337735 obs. of  13 variables:\n",
      " $ ride_id           : chr  \"BCC66FC6FAB27CC7\" \"772AB67E902C180F\" \"585EAD07FDEC0152\" \"91C4E7ED3C262FF9\" ...\n",
      " $ rideable_type     : chr  \"electric_bike\" \"classic_bike\" \"classic_bike\" \"classic_bike\" ...\n",
      " $ started_at        : chr  \"2022-11-10 06:21:55\" \"2022-11-04 07:31:55\" \"2022-11-21 17:20:29\" \"2022-11-25 17:29:34\" ...\n",
      " $ ended_at          : chr  \"2022-11-10 06:31:27\" \"2022-11-04 07:46:25\" \"2022-11-21 17:34:36\" \"2022-11-25 17:45:15\" ...\n",
      " $ start_station_name: chr  \"Canal St & Adams St\" \"Canal St & Adams St\" \"Indiana Ave & Roosevelt Rd\" \"Indiana Ave & Roosevelt Rd\" ...\n",
      " $ start_station_id  : chr  \"13011\" \"13011\" \"SL-005\" \"SL-005\" ...\n",
      " $ end_station_name  : chr  \"St. Clair St & Erie St\" \"St. Clair St & Erie St\" \"St. Clair St & Erie St\" \"St. Clair St & Erie St\" ...\n",
      " $ end_station_id    : chr  \"13016\" \"13016\" \"13016\" \"13016\" ...\n",
      " $ start_lat         : num  41.9 41.9 41.9 41.9 41.9 ...\n",
      " $ start_lng         : num  -87.6 -87.6 -87.6 -87.6 -87.6 ...\n",
      " $ end_lat           : num  41.9 41.9 41.9 41.9 41.9 ...\n",
      " $ end_lng           : num  -87.6 -87.6 -87.6 -87.6 -87.6 ...\n",
      " $ member_casual     : chr  \"member\" \"member\" \"member\" \"member\" ...\n",
      "'data.frame':\t181806 obs. of  13 variables:\n",
      " $ ride_id           : chr  \"65DBD2F447EC51C2\" \"0C201AA7EA0EA1AD\" \"E0B148CCB358A49D\" \"54C5775D2B7C9188\" ...\n",
      " $ rideable_type     : chr  \"electric_bike\" \"classic_bike\" \"electric_bike\" \"classic_bike\" ...\n",
      " $ started_at        : chr  \"2022-12-05 10:47:18\" \"2022-12-18 06:42:33\" \"2022-12-13 08:47:45\" \"2022-12-13 18:50:47\" ...\n",
      " $ ended_at          : chr  \"2022-12-05 10:56:34\" \"2022-12-18 07:08:44\" \"2022-12-13 08:59:51\" \"2022-12-13 19:19:48\" ...\n",
      " $ start_station_name: chr  \"Clifton Ave & Armitage Ave\" \"Broadway & Belmont Ave\" \"Sangamon St & Lake St\" \"Shields Ave & 31st St\" ...\n",
      " $ start_station_id  : chr  \"TA1307000163\" \"13277\" \"TA1306000015\" \"KA1503000038\" ...\n",
      " $ end_station_name  : chr  \"Sedgwick St & Webster Ave\" \"Sedgwick St & Webster Ave\" \"St. Clair St & Erie St\" \"Damen Ave & Madison St\" ...\n",
      " $ end_station_id    : chr  \"13191\" \"13191\" \"13016\" \"13134\" ...\n",
      " $ start_lat         : num  41.9 41.9 41.9 41.8 41.9 ...\n",
      " $ start_lng         : num  -87.7 -87.6 -87.7 -87.6 -87.7 ...\n",
      " $ end_lat           : num  41.9 41.9 41.9 41.9 41.9 ...\n",
      " $ end_lng           : num  -87.6 -87.6 -87.6 -87.7 -87.7 ...\n",
      " $ member_casual     : chr  \"member\" \"casual\" \"member\" \"member\" ...\n"
     ]
    }
   ],
   "source": [
    "m1<- read.csv(\"/kaggle/input/google-casestudy-1-2022-2023/202201-divvy-tripdata.csv\")\n",
    "m2<- read.csv(\"/kaggle/input/google-casestudy-1-2022-2023/202202-divvy-tripdata.csv\")\n",
    "m3<- read.csv(\"/kaggle/input/google-casestudy-1-2022-2023/202203-divvy-tripdata.csv\")\n",
    "m4<- read.csv(\"/kaggle/input/google-casestudy-1-2022-2023/202204-divvy-tripdata.csv\")\n",
    "m5<- read.csv(\"/kaggle/input/google-casestudy-1-2022-2023/202205-divvy-tripdata.csv\")\n",
    "m6<- read.csv(\"/kaggle/input/google-casestudy-1-2022-2023/202206-divvy-tripdata.csv\")\n",
    "m7<- read.csv(\"/kaggle/input/google-casestudy-1-2022-2023/202207-divvy-tripdata.csv\")\n",
    "m8<- read.csv(\"/kaggle/input/google-casestudy-1-2022-2023/202208-divvy-tripdata.csv\")\n",
    "m9<- read.csv(\"/kaggle/input/google-casestudy-1-2022-2023/202209-divvy-publictripdata.csv\")\n",
    "m10<- read.csv(\"/kaggle/input/google-casestudy-1-2022-2023/202210-divvy-tripdata.csv\")\n",
    "m11<- read.csv(\"/kaggle/input/google-casestudy-1-2022-2023/202211-divvy-tripdata.csv\")\n",
    "m12<- read.csv(\"/kaggle/input/google-casestudy-1-2022-2023/202212-divvy-tripdata.csv\")\n",
    "\n",
    "str(m1)\n",
    "str(m2)\n",
    "str(m3)\n",
    "str(m4)\n",
    "str(m5)\n",
    "str(m6)\n",
    "str(m7)\n",
    "str(m8)\n",
    "str(m9)\n",
    "str(m10)\n",
    "str(m11)\n",
    "str(m12)\n",
    "\n",
    "y2022 <- bind_rows(m1,m2,m3,m4,m5,m6,m7,m8,m9,m10,m11,m12)\n",
    "\n",
    "rm(m1,m2,m3,m4,m5,m6,m7,m8,m9,m10,m11,m12)\n",
    "\n",
    "y2022 <- y2022 %>%\n",
    "    select(-c(start_lat, start_lng, end_lat, end_lng))"
   ]
  },
  {
   "cell_type": "markdown",
   "id": "fc6bb1de",
   "metadata": {
    "papermill": {
     "duration": 0.006292,
     "end_time": "2023-03-28T14:25:26.469943",
     "exception": false,
     "start_time": "2023-03-28T14:25:26.463651",
     "status": "completed"
    },
    "tags": []
   },
   "source": [
    "With this data i can solve my problem by comparing the diferences between the casual riders and the members of Cyclistic.\n",
    "\n",
    "## Process Phase: \n",
    "\n",
    "In this phase I'll use R to clean the data and get it ready to analyze.\n",
    "\n",
    "Now I'm separating the dates into different columns to work better with them and create a ride_length column to see the difference beetween the members and the casual rides"
   ]
  },
  {
   "cell_type": "code",
   "execution_count": 3,
   "id": "6ec2e4ef",
   "metadata": {
    "execution": {
     "iopub.execute_input": "2023-03-28T14:25:26.484482Z",
     "iopub.status.busy": "2023-03-28T14:25:26.482891Z",
     "iopub.status.idle": "2023-03-28T14:26:26.889413Z",
     "shell.execute_reply": "2023-03-28T14:26:26.887563Z"
    },
    "papermill": {
     "duration": 60.416646,
     "end_time": "2023-03-28T14:26:26.892030",
     "exception": false,
     "start_time": "2023-03-28T14:25:26.475384",
     "status": "completed"
    },
    "tags": []
   },
   "outputs": [],
   "source": [
    "y2022$date <- as.Date(y2022$started_at)\n",
    "y2022$month <- format(as.Date(y2022$date), \"%m\")\n",
    "y2022$day <- format(as.Date(y2022$date), \"%d\")\n",
    "y2022$year <- format(as.Date(y2022$date), \"%Y\")\n",
    "y2022$day_of_week <- format(as.Date(y2022$date), \"%A\")\n",
    "y2022$ride_length <- difftime(y2022$ended_at,y2022$started_at)"
   ]
  },
  {
   "cell_type": "markdown",
   "id": "ebd8c9a7",
   "metadata": {
    "papermill": {
     "duration": 0.005573,
     "end_time": "2023-03-28T14:26:26.904307",
     "exception": false,
     "start_time": "2023-03-28T14:26:26.898734",
     "status": "completed"
    },
    "tags": []
   },
   "source": [
    "I review the data to make sure everything is correct"
   ]
  },
  {
   "cell_type": "code",
   "execution_count": 4,
   "id": "abee512f",
   "metadata": {
    "execution": {
     "iopub.execute_input": "2023-03-28T14:26:26.918414Z",
     "iopub.status.busy": "2023-03-28T14:26:26.916976Z",
     "iopub.status.idle": "2023-03-28T14:26:28.306846Z",
     "shell.execute_reply": "2023-03-28T14:26:28.305228Z"
    },
    "papermill": {
     "duration": 1.399341,
     "end_time": "2023-03-28T14:26:28.309098",
     "exception": false,
     "start_time": "2023-03-28T14:26:26.909757",
     "status": "completed"
    },
    "tags": []
   },
   "outputs": [
    {
     "data": {
      "text/html": [
       "<table class=\"dataframe\">\n",
       "<caption>A data.frame: 5667717 × 15</caption>\n",
       "<thead>\n",
       "\t<tr><th scope=col>ride_id</th><th scope=col>rideable_type</th><th scope=col>started_at</th><th scope=col>ended_at</th><th scope=col>start_station_name</th><th scope=col>start_station_id</th><th scope=col>end_station_name</th><th scope=col>end_station_id</th><th scope=col>member_casual</th><th scope=col>date</th><th scope=col>month</th><th scope=col>day</th><th scope=col>year</th><th scope=col>day_of_week</th><th scope=col>ride_length</th></tr>\n",
       "\t<tr><th scope=col>&lt;chr&gt;</th><th scope=col>&lt;chr&gt;</th><th scope=col>&lt;chr&gt;</th><th scope=col>&lt;chr&gt;</th><th scope=col>&lt;chr&gt;</th><th scope=col>&lt;chr&gt;</th><th scope=col>&lt;chr&gt;</th><th scope=col>&lt;chr&gt;</th><th scope=col>&lt;chr&gt;</th><th scope=col>&lt;date&gt;</th><th scope=col>&lt;chr&gt;</th><th scope=col>&lt;chr&gt;</th><th scope=col>&lt;chr&gt;</th><th scope=col>&lt;chr&gt;</th><th scope=col>&lt;drtn&gt;</th></tr>\n",
       "</thead>\n",
       "<tbody>\n",
       "\t<tr><td>C2F7DD78E82EC875</td><td>electric_bike</td><td>2022-01-13 11:59:47</td><td>2022-01-13 12:02:44</td><td><span style=white-space:pre-wrap>Glenwood Ave &amp; Touhy Ave     </span></td><td><span style=white-space:pre-wrap>525         </span></td><td><span style=white-space:pre-wrap>Clark St &amp; Touhy Ave         </span></td><td><span style=white-space:pre-wrap>RP-007      </span></td><td>casual</td><td>2022-01-13</td><td>01</td><td>13</td><td>2022</td><td>Thursday </td><td> 177 secs</td></tr>\n",
       "\t<tr><td>A6CF8980A652D272</td><td>electric_bike</td><td>2022-01-10 08:41:56</td><td>2022-01-10 08:46:17</td><td><span style=white-space:pre-wrap>Glenwood Ave &amp; Touhy Ave     </span></td><td><span style=white-space:pre-wrap>525         </span></td><td><span style=white-space:pre-wrap>Clark St &amp; Touhy Ave         </span></td><td><span style=white-space:pre-wrap>RP-007      </span></td><td>casual</td><td>2022-01-10</td><td>01</td><td>10</td><td>2022</td><td><span style=white-space:pre-wrap>Monday   </span></td><td> 261 secs</td></tr>\n",
       "\t<tr><td>BD0F91DFF741C66D</td><td>classic_bike </td><td>2022-01-25 04:53:40</td><td>2022-01-25 04:58:01</td><td>Sheffield Ave &amp; Fullerton Ave</td><td>TA1306000016</td><td>Greenview Ave &amp; Fullerton Ave</td><td>TA1307000001</td><td>member</td><td>2022-01-25</td><td>01</td><td>25</td><td>2022</td><td><span style=white-space:pre-wrap>Tuesday  </span></td><td> 261 secs</td></tr>\n",
       "\t<tr><td>CBB80ED419105406</td><td>classic_bike </td><td>2022-01-04 00:18:04</td><td>2022-01-04 00:33:00</td><td><span style=white-space:pre-wrap>Clark St &amp; Bryn Mawr Ave     </span></td><td>KA1504000151</td><td><span style=white-space:pre-wrap>Paulina St &amp; Montrose Ave    </span></td><td>TA1309000021</td><td>casual</td><td>2022-01-04</td><td>01</td><td>04</td><td>2022</td><td><span style=white-space:pre-wrap>Tuesday  </span></td><td> 896 secs</td></tr>\n",
       "\t<tr><td>DDC963BFDDA51EEA</td><td>classic_bike </td><td>2022-01-20 01:31:10</td><td>2022-01-20 01:37:12</td><td><span style=white-space:pre-wrap>Michigan Ave &amp; Jackson Blvd  </span></td><td>TA1309000002</td><td><span style=white-space:pre-wrap>State St &amp; Randolph St       </span></td><td>TA1305000029</td><td>member</td><td>2022-01-20</td><td>01</td><td>20</td><td>2022</td><td>Thursday </td><td> 362 secs</td></tr>\n",
       "\t<tr><td>A39C6F6CC0586C0B</td><td>classic_bike </td><td>2022-01-11 18:48:09</td><td>2022-01-11 18:51:31</td><td><span style=white-space:pre-wrap>Wood St &amp; Chicago Ave        </span></td><td><span style=white-space:pre-wrap>637         </span></td><td><span style=white-space:pre-wrap>Honore St &amp; Division St      </span></td><td>TA1305000034</td><td>member</td><td>2022-01-11</td><td>01</td><td>11</td><td>2022</td><td><span style=white-space:pre-wrap>Tuesday  </span></td><td> 202 secs</td></tr>\n",
       "\t<tr><td>BDC4AB637EDF981B</td><td>classic_bike </td><td>2022-01-30 18:32:52</td><td>2022-01-30 18:49:26</td><td><span style=white-space:pre-wrap>Oakley Ave &amp; Irving Park Rd  </span></td><td>KA1504000158</td><td><span style=white-space:pre-wrap>Broadway &amp; Sheridan Rd       </span></td><td><span style=white-space:pre-wrap>13323       </span></td><td>member</td><td>2022-01-30</td><td>01</td><td>30</td><td>2022</td><td><span style=white-space:pre-wrap>Sunday   </span></td><td> 994 secs</td></tr>\n",
       "\t<tr><td>81751A3186E59A6B</td><td>classic_bike </td><td>2022-01-22 12:20:02</td><td>2022-01-22 12:32:06</td><td>Sheffield Ave &amp; Fullerton Ave</td><td>TA1306000016</td><td><span style=white-space:pre-wrap>Damen Ave &amp; Clybourn Ave     </span></td><td><span style=white-space:pre-wrap>13271       </span></td><td>member</td><td>2022-01-22</td><td>01</td><td>22</td><td>2022</td><td>Saturday </td><td> 724 secs</td></tr>\n",
       "\t<tr><td>154222B86A338ABD</td><td>electric_bike</td><td>2022-01-17 07:34:41</td><td>2022-01-17 08:00:08</td><td><span style=white-space:pre-wrap>Racine Ave &amp; 15th St         </span></td><td><span style=white-space:pre-wrap>13304       </span></td><td>Clinton St &amp; Washington Blvd </td><td><span style=white-space:pre-wrap>WL-012      </span></td><td>member</td><td>2022-01-17</td><td>01</td><td>17</td><td>2022</td><td><span style=white-space:pre-wrap>Monday   </span></td><td>1527 secs</td></tr>\n",
       "\t<tr><td>72DC25B2DD467EEF</td><td>classic_bike </td><td>2022-01-28 15:27:53</td><td>2022-01-28 15:35:16</td><td><span style=white-space:pre-wrap>LaSalle St &amp; Jackson Blvd    </span></td><td>TA1309000004</td><td>Clinton St &amp; Washington Blvd </td><td><span style=white-space:pre-wrap>WL-012      </span></td><td>member</td><td>2022-01-28</td><td>01</td><td>28</td><td>2022</td><td><span style=white-space:pre-wrap>Friday   </span></td><td> 443 secs</td></tr>\n",
       "\t<tr><td>F20394FE09C63DB2</td><td>classic_bike </td><td>2022-01-11 18:27:59</td><td>2022-01-11 18:34:20</td><td><span style=white-space:pre-wrap>LaSalle St &amp; Jackson Blvd    </span></td><td>TA1309000004</td><td>Clinton St &amp; Washington Blvd </td><td><span style=white-space:pre-wrap>WL-012      </span></td><td>member</td><td>2022-01-11</td><td>01</td><td>11</td><td>2022</td><td><span style=white-space:pre-wrap>Tuesday  </span></td><td> 381 secs</td></tr>\n",
       "\t<tr><td>006D3F363CF9600B</td><td>electric_bike</td><td>2022-01-29 12:30:43</td><td>2022-01-29 12:43:04</td><td><span style=white-space:pre-wrap>Clarendon Ave &amp; Leland Ave   </span></td><td>TA1307000119</td><td><span style=white-space:pre-wrap>Broadway &amp; Granville Ave     </span></td><td><span style=white-space:pre-wrap>15571       </span></td><td>member</td><td>2022-01-29</td><td>01</td><td>29</td><td>2022</td><td>Saturday </td><td> 741 secs</td></tr>\n",
       "\t<tr><td>FB258EEBE89F4E17</td><td>classic_bike </td><td>2022-01-02 17:56:18</td><td>2022-01-02 18:05:38</td><td>Sheffield Ave &amp; Fullerton Ave</td><td>TA1306000016</td><td>Stockton Dr &amp; Wrightwood Ave </td><td><span style=white-space:pre-wrap>13276       </span></td><td>member</td><td>2022-01-02</td><td>01</td><td>02</td><td>2022</td><td><span style=white-space:pre-wrap>Sunday   </span></td><td> 560 secs</td></tr>\n",
       "\t<tr><td>2EF51270B08DEE03</td><td>classic_bike </td><td>2022-01-20 22:03:06</td><td>2022-01-20 22:09:59</td><td><span style=white-space:pre-wrap>Rush St &amp; Superior St        </span></td><td><span style=white-space:pre-wrap>15530       </span></td><td><span style=white-space:pre-wrap>Larrabee St &amp; Kingsbury St   </span></td><td>TA1306000009</td><td>member</td><td>2022-01-20</td><td>01</td><td>20</td><td>2022</td><td>Thursday </td><td> 413 secs</td></tr>\n",
       "\t<tr><td>E119D4E6BF686601</td><td>electric_bike</td><td>2022-01-08 05:36:40</td><td>2022-01-08 05:46:40</td><td><span style=white-space:pre-wrap>Michigan Ave &amp; Jackson Blvd  </span></td><td>TA1309000002</td><td><span style=white-space:pre-wrap>St. Clair St &amp; Erie St       </span></td><td><span style=white-space:pre-wrap>13016       </span></td><td>casual</td><td>2022-01-08</td><td>01</td><td>08</td><td>2022</td><td>Saturday </td><td> 600 secs</td></tr>\n",
       "\t<tr><td>7DD70C4AA0F3EA7B</td><td>classic_bike </td><td>2022-01-14 05:47:07</td><td>2022-01-14 05:47:39</td><td>Lincoln Park Conservatory    </td><td>LP-         </td><td>Lincoln Park Conservatory    </td><td>LP-         </td><td>member</td><td>2022-01-14</td><td>01</td><td>14</td><td>2022</td><td>Friday   </td><td>  32 secs</td></tr>\n",
       "\t<tr><td>0AA241497B970400</td><td>classic_bike </td><td>2022-01-12 14:09:13</td><td>2022-01-12 14:10:53</td><td><span style=white-space:pre-wrap>LaSalle St &amp; Jackson Blvd    </span></td><td>TA1309000004</td><td><span style=white-space:pre-wrap>Clark St &amp; Ida B Wells Dr    </span></td><td>TA1305000009</td><td>member</td><td>2022-01-12</td><td>01</td><td>12</td><td>2022</td><td>Wednesday</td><td> 100 secs</td></tr>\n",
       "\t<tr><td>F5E6D97D85BE8039</td><td>classic_bike </td><td>2022-01-31 12:07:45</td><td>2022-01-31 12:12:48</td><td><span style=white-space:pre-wrap>Michigan Ave &amp; Jackson Blvd  </span></td><td>TA1309000002</td><td><span style=white-space:pre-wrap>Indiana Ave &amp; Roosevelt Rd   </span></td><td><span style=white-space:pre-wrap>SL-005      </span></td><td>member</td><td>2022-01-31</td><td>01</td><td>31</td><td>2022</td><td><span style=white-space:pre-wrap>Monday   </span></td><td> 303 secs</td></tr>\n",
       "\t<tr><td>78168928DF06A497</td><td>classic_bike </td><td>2022-01-28 17:21:59</td><td>2022-01-28 17:26:54</td><td><span style=white-space:pre-wrap>Michigan Ave &amp; Jackson Blvd  </span></td><td>TA1309000002</td><td><span style=white-space:pre-wrap>Indiana Ave &amp; Roosevelt Rd   </span></td><td><span style=white-space:pre-wrap>SL-005      </span></td><td>member</td><td>2022-01-28</td><td>01</td><td>28</td><td>2022</td><td><span style=white-space:pre-wrap>Friday   </span></td><td> 295 secs</td></tr>\n",
       "\t<tr><td>15C176B55C2BC059</td><td>classic_bike </td><td>2022-01-19 21:00:40</td><td>2022-01-19 21:09:56</td><td><span style=white-space:pre-wrap>Clark St &amp; Bryn Mawr Ave     </span></td><td>KA1504000151</td><td><span style=white-space:pre-wrap>Clark St &amp; Schreiber Ave     </span></td><td>KA1504000156</td><td>member</td><td>2022-01-19</td><td>01</td><td>19</td><td>2022</td><td>Wednesday</td><td> 556 secs</td></tr>\n",
       "\t<tr><td>12D2B5AA545EF922</td><td>classic_bike </td><td>2022-01-24 15:19:37</td><td>2022-01-24 15:45:27</td><td><span style=white-space:pre-wrap>Lincoln Park Conservatory    </span></td><td><span style=white-space:pre-wrap>LP-         </span></td><td>Michigan Ave &amp; Washington St </td><td><span style=white-space:pre-wrap>13001       </span></td><td>member</td><td>2022-01-24</td><td>01</td><td>24</td><td>2022</td><td><span style=white-space:pre-wrap>Monday   </span></td><td>1550 secs</td></tr>\n",
       "\t<tr><td>1A185AF405E7B2DB</td><td>classic_bike </td><td>2022-01-13 12:47:10</td><td>2022-01-13 13:10:20</td><td><span style=white-space:pre-wrap>Sedgwick St &amp; North Ave      </span></td><td>TA1307000038</td><td><span style=white-space:pre-wrap>Sedgwick St &amp; North Ave      </span></td><td>TA1307000038</td><td>member</td><td>2022-01-13</td><td>01</td><td>13</td><td>2022</td><td>Thursday </td><td>1390 secs</td></tr>\n",
       "\t<tr><td>9D4AAF43A011FC59</td><td>electric_bike</td><td>2022-01-18 08:03:16</td><td>2022-01-18 08:08:00</td><td><span style=white-space:pre-wrap>California Ave &amp; Altgeld St  </span></td><td><span style=white-space:pre-wrap>15646       </span></td><td><span style=white-space:pre-wrap>Milwaukee Ave &amp; Rockwell St  </span></td><td><span style=white-space:pre-wrap>13242       </span></td><td>casual</td><td>2022-01-18</td><td>01</td><td>18</td><td>2022</td><td><span style=white-space:pre-wrap>Tuesday  </span></td><td> 284 secs</td></tr>\n",
       "\t<tr><td>A209F8E0E84D49B4</td><td>classic_bike </td><td>2022-01-25 14:46:24</td><td>2022-01-25 15:00:27</td><td>Sheffield Ave &amp; Fullerton Ave</td><td>TA1306000016</td><td><span style=white-space:pre-wrap>Halsted St &amp; Roscoe St       </span></td><td>TA1309000025</td><td>member</td><td>2022-01-25</td><td>01</td><td>25</td><td>2022</td><td><span style=white-space:pre-wrap>Tuesday  </span></td><td> 843 secs</td></tr>\n",
       "\t<tr><td>6D6B462903DCB23F</td><td>electric_bike</td><td>2022-01-10 06:44:21</td><td>2022-01-10 06:51:28</td><td><span style=white-space:pre-wrap>Racine Ave &amp; 15th St         </span></td><td><span style=white-space:pre-wrap>13304       </span></td><td><span style=white-space:pre-wrap>Wolcott Ave &amp; Polk St        </span></td><td>TA1309000064</td><td>member</td><td>2022-01-10</td><td>01</td><td>10</td><td>2022</td><td><span style=white-space:pre-wrap>Monday   </span></td><td> 427 secs</td></tr>\n",
       "\t<tr><td>DC809CD3B3F3BFC9</td><td>classic_bike </td><td>2022-01-22 15:14:32</td><td>2022-01-22 15:25:21</td><td><span style=white-space:pre-wrap>Indiana Ave &amp; 31st St        </span></td><td>TA1308000036</td><td><span style=white-space:pre-wrap>Emerald Ave &amp; 31st St        </span></td><td>TA1309000055</td><td>member</td><td>2022-01-22</td><td>01</td><td>22</td><td>2022</td><td>Saturday </td><td> 649 secs</td></tr>\n",
       "\t<tr><td>1C2362DAD4090D8A</td><td>electric_bike</td><td>2022-01-03 00:12:42</td><td>2022-01-03 00:17:50</td><td><span style=white-space:pre-wrap>Indiana Ave &amp; 31st St        </span></td><td>TA1308000036</td><td><span style=white-space:pre-wrap>Indiana Ave &amp; 40th St        </span></td><td><span style=white-space:pre-wrap>13083       </span></td><td>casual</td><td>2022-01-03</td><td>01</td><td>03</td><td>2022</td><td><span style=white-space:pre-wrap>Monday   </span></td><td> 308 secs</td></tr>\n",
       "\t<tr><td>AB4032C2B151D137</td><td>classic_bike </td><td>2022-01-31 18:58:30</td><td>2022-01-31 19:05:17</td><td><span style=white-space:pre-wrap>Lake Park Ave &amp; 56th St      </span></td><td>TA1309000063</td><td><span style=white-space:pre-wrap>Shore Dr &amp; 55th St           </span></td><td>TA1308000009</td><td>member</td><td>2022-01-31</td><td>01</td><td>31</td><td>2022</td><td><span style=white-space:pre-wrap>Monday   </span></td><td> 407 secs</td></tr>\n",
       "\t<tr><td>E6B6D4531ADC9F52</td><td>classic_bike </td><td>2022-01-15 17:41:15</td><td>2022-01-15 17:48:54</td><td>Sheffield Ave &amp; Fullerton Ave</td><td>TA1306000016</td><td>Ashland Ave &amp; Wrightwood Ave </td><td><span style=white-space:pre-wrap>13296       </span></td><td>member</td><td>2022-01-15</td><td>01</td><td>15</td><td>2022</td><td>Saturday </td><td> 459 secs</td></tr>\n",
       "\t<tr><td>81B423963BA2C10C</td><td>classic_bike </td><td>2022-01-24 10:15:53</td><td>2022-01-24 10:39:53</td><td>Lincoln Park Conservatory    </td><td>LP-         </td><td>Daley Center Plaza           </td><td>TA1306000010</td><td>member</td><td>2022-01-24</td><td>01</td><td>24</td><td>2022</td><td>Monday   </td><td>1440 secs</td></tr>\n",
       "\t<tr><td>⋮</td><td>⋮</td><td>⋮</td><td>⋮</td><td>⋮</td><td>⋮</td><td>⋮</td><td>⋮</td><td>⋮</td><td>⋮</td><td>⋮</td><td>⋮</td><td>⋮</td><td>⋮</td><td>⋮</td></tr>\n",
       "\t<tr><td>D0EE0137BE1CFE2F</td><td>electric_bike</td><td>2022-12-31 11:51:58</td><td>2022-12-31 12:01:21</td><td><span style=white-space:pre-wrap>Dearborn St &amp; Monroe St      </span></td><td>TA1305000006</td><td><span style=white-space:pre-wrap>Green St &amp; Madison St     </span></td><td>TA1307000120</td><td>casual</td><td>2022-12-31</td><td>12</td><td>31</td><td>2022</td><td>Saturday </td><td> 563 secs</td></tr>\n",
       "\t<tr><td>8D7BAB2233A72E76</td><td>electric_bike</td><td>2022-12-04 09:02:16</td><td>2022-12-04 09:14:19</td><td><span style=white-space:pre-wrap>Morgan St &amp; 18th St          </span></td><td><span style=white-space:pre-wrap>13163       </span></td><td><span style=white-space:pre-wrap>Green St &amp; Madison St     </span></td><td>TA1307000120</td><td>casual</td><td>2022-12-04</td><td>12</td><td>04</td><td>2022</td><td><span style=white-space:pre-wrap>Sunday   </span></td><td> 723 secs</td></tr>\n",
       "\t<tr><td>F6E149C279E9003C</td><td>electric_bike</td><td>2022-12-31 14:23:08</td><td>2022-12-31 14:50:13</td><td><span style=white-space:pre-wrap>Morgan St &amp; 18th St          </span></td><td><span style=white-space:pre-wrap>13163       </span></td><td><span style=white-space:pre-wrap>Seeley Ave &amp; Roscoe St    </span></td><td><span style=white-space:pre-wrap>13144       </span></td><td>casual</td><td>2022-12-31</td><td>12</td><td>31</td><td>2022</td><td>Saturday </td><td>1625 secs</td></tr>\n",
       "\t<tr><td>157AACAF04B4AC1A</td><td>electric_bike</td><td>2022-12-05 17:51:38</td><td>2022-12-05 17:58:40</td><td><span style=white-space:pre-wrap>Dearborn St &amp; Monroe St      </span></td><td>TA1305000006</td><td><span style=white-space:pre-wrap>Green St &amp; Madison St     </span></td><td>TA1307000120</td><td>member</td><td>2022-12-05</td><td>12</td><td>05</td><td>2022</td><td><span style=white-space:pre-wrap>Monday   </span></td><td> 422 secs</td></tr>\n",
       "\t<tr><td>13618E9C77157B38</td><td>classic_bike </td><td>2022-12-28 16:50:14</td><td>2022-12-28 16:56:51</td><td><span style=white-space:pre-wrap>Dearborn St &amp; Monroe St      </span></td><td>TA1305000006</td><td><span style=white-space:pre-wrap>Green St &amp; Madison St     </span></td><td>TA1307000120</td><td>member</td><td>2022-12-28</td><td>12</td><td>28</td><td>2022</td><td>Wednesday</td><td> 397 secs</td></tr>\n",
       "\t<tr><td>740FE55B98D3D886</td><td>classic_bike </td><td>2022-12-24 00:10:03</td><td>2022-12-24 00:28:10</td><td><span style=white-space:pre-wrap>Wood St &amp; Milwaukee Ave      </span></td><td><span style=white-space:pre-wrap>13221       </span></td><td><span style=white-space:pre-wrap>Green St &amp; Madison St     </span></td><td>TA1307000120</td><td>member</td><td>2022-12-24</td><td>12</td><td>24</td><td>2022</td><td>Saturday </td><td>1087 secs</td></tr>\n",
       "\t<tr><td>40711C802C946CC5</td><td>classic_bike </td><td>2022-12-15 12:57:49</td><td>2022-12-15 13:13:32</td><td>Michigan Ave &amp; Washington St </td><td><span style=white-space:pre-wrap>13001       </span></td><td><span style=white-space:pre-wrap>Peoria St &amp; Jackson Blvd  </span></td><td><span style=white-space:pre-wrap>13158       </span></td><td>member</td><td>2022-12-15</td><td>12</td><td>15</td><td>2022</td><td>Thursday </td><td> 943 secs</td></tr>\n",
       "\t<tr><td>B621CD5AF243328B</td><td>classic_bike </td><td>2022-12-31 16:09:36</td><td>2022-12-31 16:15:31</td><td><span style=white-space:pre-wrap>Canal St &amp; Taylor St         </span></td><td><span style=white-space:pre-wrap>15550       </span></td><td><span style=white-space:pre-wrap>Peoria St &amp; Jackson Blvd  </span></td><td><span style=white-space:pre-wrap>13158       </span></td><td>member</td><td>2022-12-31</td><td>12</td><td>31</td><td>2022</td><td>Saturday </td><td> 355 secs</td></tr>\n",
       "\t<tr><td>3B564ED03FE887DC</td><td>classic_bike </td><td>2022-12-30 22:06:29</td><td>2022-12-30 22:13:51</td><td><span style=white-space:pre-wrap>Canal St &amp; Taylor St         </span></td><td><span style=white-space:pre-wrap>15550       </span></td><td><span style=white-space:pre-wrap>Peoria St &amp; Jackson Blvd  </span></td><td><span style=white-space:pre-wrap>13158       </span></td><td>member</td><td>2022-12-30</td><td>12</td><td>30</td><td>2022</td><td><span style=white-space:pre-wrap>Friday   </span></td><td> 442 secs</td></tr>\n",
       "\t<tr><td>69FBC651C6C9C54B</td><td>classic_bike </td><td>2022-12-11 18:25:13</td><td>2022-12-11 18:28:32</td><td><span style=white-space:pre-wrap>Canal St &amp; Taylor St         </span></td><td><span style=white-space:pre-wrap>15550       </span></td><td><span style=white-space:pre-wrap>Clinton St &amp; Tilden St    </span></td><td><span style=white-space:pre-wrap>13037       </span></td><td>member</td><td>2022-12-11</td><td>12</td><td>11</td><td>2022</td><td><span style=white-space:pre-wrap>Sunday   </span></td><td> 199 secs</td></tr>\n",
       "\t<tr><td>10EC1B8665061739</td><td>classic_bike </td><td>2022-12-15 09:41:06</td><td>2022-12-15 09:44:57</td><td><span style=white-space:pre-wrap>Canal St &amp; Taylor St         </span></td><td><span style=white-space:pre-wrap>15550       </span></td><td><span style=white-space:pre-wrap>Clinton St &amp; Tilden St    </span></td><td><span style=white-space:pre-wrap>13037       </span></td><td>member</td><td>2022-12-15</td><td>12</td><td>15</td><td>2022</td><td>Thursday </td><td> 231 secs</td></tr>\n",
       "\t<tr><td>4A6809171F7BBFF6</td><td>electric_bike</td><td>2022-12-19 20:30:11</td><td>2022-12-19 20:40:31</td><td><span style=white-space:pre-wrap>Wood St &amp; Milwaukee Ave      </span></td><td><span style=white-space:pre-wrap>13221       </span></td><td><span style=white-space:pre-wrap>Peoria St &amp; Jackson Blvd  </span></td><td><span style=white-space:pre-wrap>13158       </span></td><td>member</td><td>2022-12-19</td><td>12</td><td>19</td><td>2022</td><td><span style=white-space:pre-wrap>Monday   </span></td><td> 620 secs</td></tr>\n",
       "\t<tr><td>CA31CD8A7A313F31</td><td>classic_bike </td><td>2022-12-28 14:51:01</td><td>2022-12-28 14:54:39</td><td><span style=white-space:pre-wrap>Canal St &amp; Taylor St         </span></td><td><span style=white-space:pre-wrap>15550       </span></td><td><span style=white-space:pre-wrap>Clinton St &amp; Tilden St    </span></td><td><span style=white-space:pre-wrap>13037       </span></td><td>member</td><td>2022-12-28</td><td>12</td><td>28</td><td>2022</td><td>Wednesday</td><td> 218 secs</td></tr>\n",
       "\t<tr><td>97230033D8C1B22F</td><td>classic_bike </td><td>2022-12-15 16:44:58</td><td>2022-12-15 16:47:46</td><td><span style=white-space:pre-wrap>Larrabee St &amp; Armitage Ave   </span></td><td>TA1309000006</td><td>Larrabee St &amp; Menomonee St</td><td>TA1306000007</td><td>member</td><td>2022-12-15</td><td>12</td><td>15</td><td>2022</td><td>Thursday </td><td> 168 secs</td></tr>\n",
       "\t<tr><td>269378CDD3A89538</td><td>electric_bike</td><td>2022-12-18 11:06:45</td><td>2022-12-18 11:14:45</td><td><span style=white-space:pre-wrap>Throop St &amp; Taylor St        </span></td><td><span style=white-space:pre-wrap>13139       </span></td><td><span style=white-space:pre-wrap>Peoria St &amp; Jackson Blvd  </span></td><td><span style=white-space:pre-wrap>13158       </span></td><td>casual</td><td>2022-12-18</td><td>12</td><td>18</td><td>2022</td><td><span style=white-space:pre-wrap>Sunday   </span></td><td> 480 secs</td></tr>\n",
       "\t<tr><td>91D4BA5F337AFA87</td><td>classic_bike </td><td>2022-12-28 14:35:36</td><td>2022-12-28 14:43:16</td><td><span style=white-space:pre-wrap>Dearborn St &amp; Monroe St      </span></td><td>TA1305000006</td><td><span style=white-space:pre-wrap>Green St &amp; Madison St     </span></td><td>TA1307000120</td><td>member</td><td>2022-12-28</td><td>12</td><td>28</td><td>2022</td><td>Wednesday</td><td> 460 secs</td></tr>\n",
       "\t<tr><td>283636179A819BD9</td><td>classic_bike </td><td>2022-12-01 16:19:11</td><td>2022-12-01 16:29:23</td><td>Michigan Ave &amp; Washington St </td><td><span style=white-space:pre-wrap>13001       </span></td><td><span style=white-space:pre-wrap>Green St &amp; Madison St     </span></td><td>TA1307000120</td><td>member</td><td>2022-12-01</td><td>12</td><td>01</td><td>2022</td><td>Thursday </td><td> 612 secs</td></tr>\n",
       "\t<tr><td>397D3F6E37CC753E</td><td>classic_bike </td><td>2022-12-15 11:35:53</td><td>2022-12-15 11:39:22</td><td><span style=white-space:pre-wrap>Canal St &amp; Taylor St         </span></td><td><span style=white-space:pre-wrap>15550       </span></td><td><span style=white-space:pre-wrap>Clinton St &amp; Tilden St    </span></td><td><span style=white-space:pre-wrap>13037       </span></td><td>member</td><td>2022-12-15</td><td>12</td><td>15</td><td>2022</td><td>Thursday </td><td> 209 secs</td></tr>\n",
       "\t<tr><td>856E6CB8A83DAE6A</td><td>electric_bike</td><td>2022-12-29 17:31:30</td><td>2022-12-29 17:52:58</td><td>California Ave &amp; Fletcher St </td><td><span style=white-space:pre-wrap>15642       </span></td><td><span style=white-space:pre-wrap>Green St &amp; Madison St     </span></td><td>TA1307000120</td><td>casual</td><td>2022-12-29</td><td>12</td><td>29</td><td>2022</td><td>Thursday </td><td>1288 secs</td></tr>\n",
       "\t<tr><td>1CE1BE852794BD42</td><td>electric_bike</td><td>2022-12-21 12:46:36</td><td>2022-12-21 12:49:51</td><td><span style=white-space:pre-wrap>Canal St &amp; Taylor St         </span></td><td><span style=white-space:pre-wrap>15550       </span></td><td><span style=white-space:pre-wrap>Clinton St &amp; Tilden St    </span></td><td><span style=white-space:pre-wrap>13037       </span></td><td>member</td><td>2022-12-21</td><td>12</td><td>21</td><td>2022</td><td>Wednesday</td><td> 195 secs</td></tr>\n",
       "\t<tr><td>EB7999FF9DBC0535</td><td>electric_bike</td><td>2022-12-21 19:08:04</td><td>2022-12-21 19:17:14</td><td>Michigan Ave &amp; Washington St </td><td><span style=white-space:pre-wrap>13001       </span></td><td><span style=white-space:pre-wrap>Peoria St &amp; Jackson Blvd  </span></td><td><span style=white-space:pre-wrap>13158       </span></td><td>member</td><td>2022-12-21</td><td>12</td><td>21</td><td>2022</td><td>Wednesday</td><td> 550 secs</td></tr>\n",
       "\t<tr><td>08BE55EE693263E5</td><td>electric_bike</td><td>2022-12-06 09:02:21</td><td>2022-12-06 09:06:51</td><td><span style=white-space:pre-wrap>Morgan St &amp; Polk St          </span></td><td>TA1307000130</td><td><span style=white-space:pre-wrap>Green St &amp; Madison St     </span></td><td>TA1307000120</td><td>member</td><td>2022-12-06</td><td>12</td><td>06</td><td>2022</td><td><span style=white-space:pre-wrap>Tuesday  </span></td><td> 270 secs</td></tr>\n",
       "\t<tr><td>05AD87788BCBF206</td><td>electric_bike</td><td>2022-12-06 17:08:45</td><td>2022-12-06 17:14:43</td><td><span style=white-space:pre-wrap>Wells St &amp; Hubbard St        </span></td><td>TA1307000151</td><td><span style=white-space:pre-wrap>Green St &amp; Madison St     </span></td><td>TA1307000120</td><td>member</td><td>2022-12-06</td><td>12</td><td>06</td><td>2022</td><td><span style=white-space:pre-wrap>Tuesday  </span></td><td> 358 secs</td></tr>\n",
       "\t<tr><td>AFF5772FD4185626</td><td>classic_bike </td><td>2022-12-03 08:50:08</td><td>2022-12-03 08:54:17</td><td>Sangamon St &amp; Washington Blvd</td><td><span style=white-space:pre-wrap>13409       </span></td><td><span style=white-space:pre-wrap>Peoria St &amp; Jackson Blvd  </span></td><td><span style=white-space:pre-wrap>13158       </span></td><td>member</td><td>2022-12-03</td><td>12</td><td>03</td><td>2022</td><td>Saturday </td><td> 249 secs</td></tr>\n",
       "\t<tr><td>7BDEDE9860418B53</td><td>classic_bike </td><td>2022-12-07 06:52:45</td><td>2022-12-07 06:56:36</td><td>Sangamon St &amp; Washington Blvd</td><td><span style=white-space:pre-wrap>13409       </span></td><td><span style=white-space:pre-wrap>Peoria St &amp; Jackson Blvd  </span></td><td><span style=white-space:pre-wrap>13158       </span></td><td>member</td><td>2022-12-07</td><td>12</td><td>07</td><td>2022</td><td>Wednesday</td><td> 231 secs</td></tr>\n",
       "\t<tr><td>43ABEE85B6E15DCA</td><td>classic_bike </td><td>2022-12-05 06:51:04</td><td>2022-12-05 06:54:48</td><td>Sangamon St &amp; Washington Blvd</td><td><span style=white-space:pre-wrap>13409       </span></td><td><span style=white-space:pre-wrap>Peoria St &amp; Jackson Blvd  </span></td><td><span style=white-space:pre-wrap>13158       </span></td><td>member</td><td>2022-12-05</td><td>12</td><td>05</td><td>2022</td><td><span style=white-space:pre-wrap>Monday   </span></td><td> 224 secs</td></tr>\n",
       "\t<tr><td>F041C89A3D1F0270</td><td>electric_bike</td><td>2022-12-14 17:06:28</td><td>2022-12-14 17:19:27</td><td><span style=white-space:pre-wrap>Bernard St &amp; Elston Ave      </span></td><td><span style=white-space:pre-wrap>18016       </span></td><td><span style=white-space:pre-wrap>Seeley Ave &amp; Roscoe St    </span></td><td><span style=white-space:pre-wrap>13144       </span></td><td>member</td><td>2022-12-14</td><td>12</td><td>14</td><td>2022</td><td>Wednesday</td><td> 779 secs</td></tr>\n",
       "\t<tr><td>A2BECB88430BE156</td><td>classic_bike </td><td>2022-12-08 16:27:47</td><td>2022-12-08 16:32:20</td><td><span style=white-space:pre-wrap>Wacker Dr &amp; Washington St    </span></td><td>KA1503000072</td><td><span style=white-space:pre-wrap>Green St &amp; Madison St     </span></td><td>TA1307000120</td><td>member</td><td>2022-12-08</td><td>12</td><td>08</td><td>2022</td><td>Thursday </td><td> 273 secs</td></tr>\n",
       "\t<tr><td>37B392960E566F58</td><td>classic_bike </td><td>2022-12-28 09:37:38</td><td>2022-12-28 09:41:34</td><td>Sangamon St &amp; Washington Blvd</td><td><span style=white-space:pre-wrap>13409       </span></td><td><span style=white-space:pre-wrap>Peoria St &amp; Jackson Blvd  </span></td><td><span style=white-space:pre-wrap>13158       </span></td><td>member</td><td>2022-12-28</td><td>12</td><td>28</td><td>2022</td><td>Wednesday</td><td> 236 secs</td></tr>\n",
       "\t<tr><td>2DD1587210BA45AE</td><td>classic_bike </td><td>2022-12-09 00:27:25</td><td>2022-12-09 00:35:28</td><td>Southport Ave &amp; Waveland Ave </td><td><span style=white-space:pre-wrap>13235       </span></td><td><span style=white-space:pre-wrap>Seeley Ave &amp; Roscoe St    </span></td><td><span style=white-space:pre-wrap>13144       </span></td><td>casual</td><td>2022-12-09</td><td>12</td><td>09</td><td>2022</td><td><span style=white-space:pre-wrap>Friday   </span></td><td> 483 secs</td></tr>\n",
       "</tbody>\n",
       "</table>\n"
      ],
      "text/latex": [
       "A data.frame: 5667717 × 15\n",
       "\\begin{tabular}{lllllllllllllll}\n",
       " ride\\_id & rideable\\_type & started\\_at & ended\\_at & start\\_station\\_name & start\\_station\\_id & end\\_station\\_name & end\\_station\\_id & member\\_casual & date & month & day & year & day\\_of\\_week & ride\\_length\\\\\n",
       " <chr> & <chr> & <chr> & <chr> & <chr> & <chr> & <chr> & <chr> & <chr> & <date> & <chr> & <chr> & <chr> & <chr> & <drtn>\\\\\n",
       "\\hline\n",
       "\t C2F7DD78E82EC875 & electric\\_bike & 2022-01-13 11:59:47 & 2022-01-13 12:02:44 & Glenwood Ave \\& Touhy Ave      & 525          & Clark St \\& Touhy Ave          & RP-007       & casual & 2022-01-13 & 01 & 13 & 2022 & Thursday  &  177 secs\\\\\n",
       "\t A6CF8980A652D272 & electric\\_bike & 2022-01-10 08:41:56 & 2022-01-10 08:46:17 & Glenwood Ave \\& Touhy Ave      & 525          & Clark St \\& Touhy Ave          & RP-007       & casual & 2022-01-10 & 01 & 10 & 2022 & Monday    &  261 secs\\\\\n",
       "\t BD0F91DFF741C66D & classic\\_bike  & 2022-01-25 04:53:40 & 2022-01-25 04:58:01 & Sheffield Ave \\& Fullerton Ave & TA1306000016 & Greenview Ave \\& Fullerton Ave & TA1307000001 & member & 2022-01-25 & 01 & 25 & 2022 & Tuesday   &  261 secs\\\\\n",
       "\t CBB80ED419105406 & classic\\_bike  & 2022-01-04 00:18:04 & 2022-01-04 00:33:00 & Clark St \\& Bryn Mawr Ave      & KA1504000151 & Paulina St \\& Montrose Ave     & TA1309000021 & casual & 2022-01-04 & 01 & 04 & 2022 & Tuesday   &  896 secs\\\\\n",
       "\t DDC963BFDDA51EEA & classic\\_bike  & 2022-01-20 01:31:10 & 2022-01-20 01:37:12 & Michigan Ave \\& Jackson Blvd   & TA1309000002 & State St \\& Randolph St        & TA1305000029 & member & 2022-01-20 & 01 & 20 & 2022 & Thursday  &  362 secs\\\\\n",
       "\t A39C6F6CC0586C0B & classic\\_bike  & 2022-01-11 18:48:09 & 2022-01-11 18:51:31 & Wood St \\& Chicago Ave         & 637          & Honore St \\& Division St       & TA1305000034 & member & 2022-01-11 & 01 & 11 & 2022 & Tuesday   &  202 secs\\\\\n",
       "\t BDC4AB637EDF981B & classic\\_bike  & 2022-01-30 18:32:52 & 2022-01-30 18:49:26 & Oakley Ave \\& Irving Park Rd   & KA1504000158 & Broadway \\& Sheridan Rd        & 13323        & member & 2022-01-30 & 01 & 30 & 2022 & Sunday    &  994 secs\\\\\n",
       "\t 81751A3186E59A6B & classic\\_bike  & 2022-01-22 12:20:02 & 2022-01-22 12:32:06 & Sheffield Ave \\& Fullerton Ave & TA1306000016 & Damen Ave \\& Clybourn Ave      & 13271        & member & 2022-01-22 & 01 & 22 & 2022 & Saturday  &  724 secs\\\\\n",
       "\t 154222B86A338ABD & electric\\_bike & 2022-01-17 07:34:41 & 2022-01-17 08:00:08 & Racine Ave \\& 15th St          & 13304        & Clinton St \\& Washington Blvd  & WL-012       & member & 2022-01-17 & 01 & 17 & 2022 & Monday    & 1527 secs\\\\\n",
       "\t 72DC25B2DD467EEF & classic\\_bike  & 2022-01-28 15:27:53 & 2022-01-28 15:35:16 & LaSalle St \\& Jackson Blvd     & TA1309000004 & Clinton St \\& Washington Blvd  & WL-012       & member & 2022-01-28 & 01 & 28 & 2022 & Friday    &  443 secs\\\\\n",
       "\t F20394FE09C63DB2 & classic\\_bike  & 2022-01-11 18:27:59 & 2022-01-11 18:34:20 & LaSalle St \\& Jackson Blvd     & TA1309000004 & Clinton St \\& Washington Blvd  & WL-012       & member & 2022-01-11 & 01 & 11 & 2022 & Tuesday   &  381 secs\\\\\n",
       "\t 006D3F363CF9600B & electric\\_bike & 2022-01-29 12:30:43 & 2022-01-29 12:43:04 & Clarendon Ave \\& Leland Ave    & TA1307000119 & Broadway \\& Granville Ave      & 15571        & member & 2022-01-29 & 01 & 29 & 2022 & Saturday  &  741 secs\\\\\n",
       "\t FB258EEBE89F4E17 & classic\\_bike  & 2022-01-02 17:56:18 & 2022-01-02 18:05:38 & Sheffield Ave \\& Fullerton Ave & TA1306000016 & Stockton Dr \\& Wrightwood Ave  & 13276        & member & 2022-01-02 & 01 & 02 & 2022 & Sunday    &  560 secs\\\\\n",
       "\t 2EF51270B08DEE03 & classic\\_bike  & 2022-01-20 22:03:06 & 2022-01-20 22:09:59 & Rush St \\& Superior St         & 15530        & Larrabee St \\& Kingsbury St    & TA1306000009 & member & 2022-01-20 & 01 & 20 & 2022 & Thursday  &  413 secs\\\\\n",
       "\t E119D4E6BF686601 & electric\\_bike & 2022-01-08 05:36:40 & 2022-01-08 05:46:40 & Michigan Ave \\& Jackson Blvd   & TA1309000002 & St. Clair St \\& Erie St        & 13016        & casual & 2022-01-08 & 01 & 08 & 2022 & Saturday  &  600 secs\\\\\n",
       "\t 7DD70C4AA0F3EA7B & classic\\_bike  & 2022-01-14 05:47:07 & 2022-01-14 05:47:39 & Lincoln Park Conservatory     & LP-          & Lincoln Park Conservatory     & LP-          & member & 2022-01-14 & 01 & 14 & 2022 & Friday    &   32 secs\\\\\n",
       "\t 0AA241497B970400 & classic\\_bike  & 2022-01-12 14:09:13 & 2022-01-12 14:10:53 & LaSalle St \\& Jackson Blvd     & TA1309000004 & Clark St \\& Ida B Wells Dr     & TA1305000009 & member & 2022-01-12 & 01 & 12 & 2022 & Wednesday &  100 secs\\\\\n",
       "\t F5E6D97D85BE8039 & classic\\_bike  & 2022-01-31 12:07:45 & 2022-01-31 12:12:48 & Michigan Ave \\& Jackson Blvd   & TA1309000002 & Indiana Ave \\& Roosevelt Rd    & SL-005       & member & 2022-01-31 & 01 & 31 & 2022 & Monday    &  303 secs\\\\\n",
       "\t 78168928DF06A497 & classic\\_bike  & 2022-01-28 17:21:59 & 2022-01-28 17:26:54 & Michigan Ave \\& Jackson Blvd   & TA1309000002 & Indiana Ave \\& Roosevelt Rd    & SL-005       & member & 2022-01-28 & 01 & 28 & 2022 & Friday    &  295 secs\\\\\n",
       "\t 15C176B55C2BC059 & classic\\_bike  & 2022-01-19 21:00:40 & 2022-01-19 21:09:56 & Clark St \\& Bryn Mawr Ave      & KA1504000151 & Clark St \\& Schreiber Ave      & KA1504000156 & member & 2022-01-19 & 01 & 19 & 2022 & Wednesday &  556 secs\\\\\n",
       "\t 12D2B5AA545EF922 & classic\\_bike  & 2022-01-24 15:19:37 & 2022-01-24 15:45:27 & Lincoln Park Conservatory     & LP-          & Michigan Ave \\& Washington St  & 13001        & member & 2022-01-24 & 01 & 24 & 2022 & Monday    & 1550 secs\\\\\n",
       "\t 1A185AF405E7B2DB & classic\\_bike  & 2022-01-13 12:47:10 & 2022-01-13 13:10:20 & Sedgwick St \\& North Ave       & TA1307000038 & Sedgwick St \\& North Ave       & TA1307000038 & member & 2022-01-13 & 01 & 13 & 2022 & Thursday  & 1390 secs\\\\\n",
       "\t 9D4AAF43A011FC59 & electric\\_bike & 2022-01-18 08:03:16 & 2022-01-18 08:08:00 & California Ave \\& Altgeld St   & 15646        & Milwaukee Ave \\& Rockwell St   & 13242        & casual & 2022-01-18 & 01 & 18 & 2022 & Tuesday   &  284 secs\\\\\n",
       "\t A209F8E0E84D49B4 & classic\\_bike  & 2022-01-25 14:46:24 & 2022-01-25 15:00:27 & Sheffield Ave \\& Fullerton Ave & TA1306000016 & Halsted St \\& Roscoe St        & TA1309000025 & member & 2022-01-25 & 01 & 25 & 2022 & Tuesday   &  843 secs\\\\\n",
       "\t 6D6B462903DCB23F & electric\\_bike & 2022-01-10 06:44:21 & 2022-01-10 06:51:28 & Racine Ave \\& 15th St          & 13304        & Wolcott Ave \\& Polk St         & TA1309000064 & member & 2022-01-10 & 01 & 10 & 2022 & Monday    &  427 secs\\\\\n",
       "\t DC809CD3B3F3BFC9 & classic\\_bike  & 2022-01-22 15:14:32 & 2022-01-22 15:25:21 & Indiana Ave \\& 31st St         & TA1308000036 & Emerald Ave \\& 31st St         & TA1309000055 & member & 2022-01-22 & 01 & 22 & 2022 & Saturday  &  649 secs\\\\\n",
       "\t 1C2362DAD4090D8A & electric\\_bike & 2022-01-03 00:12:42 & 2022-01-03 00:17:50 & Indiana Ave \\& 31st St         & TA1308000036 & Indiana Ave \\& 40th St         & 13083        & casual & 2022-01-03 & 01 & 03 & 2022 & Monday    &  308 secs\\\\\n",
       "\t AB4032C2B151D137 & classic\\_bike  & 2022-01-31 18:58:30 & 2022-01-31 19:05:17 & Lake Park Ave \\& 56th St       & TA1309000063 & Shore Dr \\& 55th St            & TA1308000009 & member & 2022-01-31 & 01 & 31 & 2022 & Monday    &  407 secs\\\\\n",
       "\t E6B6D4531ADC9F52 & classic\\_bike  & 2022-01-15 17:41:15 & 2022-01-15 17:48:54 & Sheffield Ave \\& Fullerton Ave & TA1306000016 & Ashland Ave \\& Wrightwood Ave  & 13296        & member & 2022-01-15 & 01 & 15 & 2022 & Saturday  &  459 secs\\\\\n",
       "\t 81B423963BA2C10C & classic\\_bike  & 2022-01-24 10:15:53 & 2022-01-24 10:39:53 & Lincoln Park Conservatory     & LP-          & Daley Center Plaza            & TA1306000010 & member & 2022-01-24 & 01 & 24 & 2022 & Monday    & 1440 secs\\\\\n",
       "\t ⋮ & ⋮ & ⋮ & ⋮ & ⋮ & ⋮ & ⋮ & ⋮ & ⋮ & ⋮ & ⋮ & ⋮ & ⋮ & ⋮ & ⋮\\\\\n",
       "\t D0EE0137BE1CFE2F & electric\\_bike & 2022-12-31 11:51:58 & 2022-12-31 12:01:21 & Dearborn St \\& Monroe St       & TA1305000006 & Green St \\& Madison St      & TA1307000120 & casual & 2022-12-31 & 12 & 31 & 2022 & Saturday  &  563 secs\\\\\n",
       "\t 8D7BAB2233A72E76 & electric\\_bike & 2022-12-04 09:02:16 & 2022-12-04 09:14:19 & Morgan St \\& 18th St           & 13163        & Green St \\& Madison St      & TA1307000120 & casual & 2022-12-04 & 12 & 04 & 2022 & Sunday    &  723 secs\\\\\n",
       "\t F6E149C279E9003C & electric\\_bike & 2022-12-31 14:23:08 & 2022-12-31 14:50:13 & Morgan St \\& 18th St           & 13163        & Seeley Ave \\& Roscoe St     & 13144        & casual & 2022-12-31 & 12 & 31 & 2022 & Saturday  & 1625 secs\\\\\n",
       "\t 157AACAF04B4AC1A & electric\\_bike & 2022-12-05 17:51:38 & 2022-12-05 17:58:40 & Dearborn St \\& Monroe St       & TA1305000006 & Green St \\& Madison St      & TA1307000120 & member & 2022-12-05 & 12 & 05 & 2022 & Monday    &  422 secs\\\\\n",
       "\t 13618E9C77157B38 & classic\\_bike  & 2022-12-28 16:50:14 & 2022-12-28 16:56:51 & Dearborn St \\& Monroe St       & TA1305000006 & Green St \\& Madison St      & TA1307000120 & member & 2022-12-28 & 12 & 28 & 2022 & Wednesday &  397 secs\\\\\n",
       "\t 740FE55B98D3D886 & classic\\_bike  & 2022-12-24 00:10:03 & 2022-12-24 00:28:10 & Wood St \\& Milwaukee Ave       & 13221        & Green St \\& Madison St      & TA1307000120 & member & 2022-12-24 & 12 & 24 & 2022 & Saturday  & 1087 secs\\\\\n",
       "\t 40711C802C946CC5 & classic\\_bike  & 2022-12-15 12:57:49 & 2022-12-15 13:13:32 & Michigan Ave \\& Washington St  & 13001        & Peoria St \\& Jackson Blvd   & 13158        & member & 2022-12-15 & 12 & 15 & 2022 & Thursday  &  943 secs\\\\\n",
       "\t B621CD5AF243328B & classic\\_bike  & 2022-12-31 16:09:36 & 2022-12-31 16:15:31 & Canal St \\& Taylor St          & 15550        & Peoria St \\& Jackson Blvd   & 13158        & member & 2022-12-31 & 12 & 31 & 2022 & Saturday  &  355 secs\\\\\n",
       "\t 3B564ED03FE887DC & classic\\_bike  & 2022-12-30 22:06:29 & 2022-12-30 22:13:51 & Canal St \\& Taylor St          & 15550        & Peoria St \\& Jackson Blvd   & 13158        & member & 2022-12-30 & 12 & 30 & 2022 & Friday    &  442 secs\\\\\n",
       "\t 69FBC651C6C9C54B & classic\\_bike  & 2022-12-11 18:25:13 & 2022-12-11 18:28:32 & Canal St \\& Taylor St          & 15550        & Clinton St \\& Tilden St     & 13037        & member & 2022-12-11 & 12 & 11 & 2022 & Sunday    &  199 secs\\\\\n",
       "\t 10EC1B8665061739 & classic\\_bike  & 2022-12-15 09:41:06 & 2022-12-15 09:44:57 & Canal St \\& Taylor St          & 15550        & Clinton St \\& Tilden St     & 13037        & member & 2022-12-15 & 12 & 15 & 2022 & Thursday  &  231 secs\\\\\n",
       "\t 4A6809171F7BBFF6 & electric\\_bike & 2022-12-19 20:30:11 & 2022-12-19 20:40:31 & Wood St \\& Milwaukee Ave       & 13221        & Peoria St \\& Jackson Blvd   & 13158        & member & 2022-12-19 & 12 & 19 & 2022 & Monday    &  620 secs\\\\\n",
       "\t CA31CD8A7A313F31 & classic\\_bike  & 2022-12-28 14:51:01 & 2022-12-28 14:54:39 & Canal St \\& Taylor St          & 15550        & Clinton St \\& Tilden St     & 13037        & member & 2022-12-28 & 12 & 28 & 2022 & Wednesday &  218 secs\\\\\n",
       "\t 97230033D8C1B22F & classic\\_bike  & 2022-12-15 16:44:58 & 2022-12-15 16:47:46 & Larrabee St \\& Armitage Ave    & TA1309000006 & Larrabee St \\& Menomonee St & TA1306000007 & member & 2022-12-15 & 12 & 15 & 2022 & Thursday  &  168 secs\\\\\n",
       "\t 269378CDD3A89538 & electric\\_bike & 2022-12-18 11:06:45 & 2022-12-18 11:14:45 & Throop St \\& Taylor St         & 13139        & Peoria St \\& Jackson Blvd   & 13158        & casual & 2022-12-18 & 12 & 18 & 2022 & Sunday    &  480 secs\\\\\n",
       "\t 91D4BA5F337AFA87 & classic\\_bike  & 2022-12-28 14:35:36 & 2022-12-28 14:43:16 & Dearborn St \\& Monroe St       & TA1305000006 & Green St \\& Madison St      & TA1307000120 & member & 2022-12-28 & 12 & 28 & 2022 & Wednesday &  460 secs\\\\\n",
       "\t 283636179A819BD9 & classic\\_bike  & 2022-12-01 16:19:11 & 2022-12-01 16:29:23 & Michigan Ave \\& Washington St  & 13001        & Green St \\& Madison St      & TA1307000120 & member & 2022-12-01 & 12 & 01 & 2022 & Thursday  &  612 secs\\\\\n",
       "\t 397D3F6E37CC753E & classic\\_bike  & 2022-12-15 11:35:53 & 2022-12-15 11:39:22 & Canal St \\& Taylor St          & 15550        & Clinton St \\& Tilden St     & 13037        & member & 2022-12-15 & 12 & 15 & 2022 & Thursday  &  209 secs\\\\\n",
       "\t 856E6CB8A83DAE6A & electric\\_bike & 2022-12-29 17:31:30 & 2022-12-29 17:52:58 & California Ave \\& Fletcher St  & 15642        & Green St \\& Madison St      & TA1307000120 & casual & 2022-12-29 & 12 & 29 & 2022 & Thursday  & 1288 secs\\\\\n",
       "\t 1CE1BE852794BD42 & electric\\_bike & 2022-12-21 12:46:36 & 2022-12-21 12:49:51 & Canal St \\& Taylor St          & 15550        & Clinton St \\& Tilden St     & 13037        & member & 2022-12-21 & 12 & 21 & 2022 & Wednesday &  195 secs\\\\\n",
       "\t EB7999FF9DBC0535 & electric\\_bike & 2022-12-21 19:08:04 & 2022-12-21 19:17:14 & Michigan Ave \\& Washington St  & 13001        & Peoria St \\& Jackson Blvd   & 13158        & member & 2022-12-21 & 12 & 21 & 2022 & Wednesday &  550 secs\\\\\n",
       "\t 08BE55EE693263E5 & electric\\_bike & 2022-12-06 09:02:21 & 2022-12-06 09:06:51 & Morgan St \\& Polk St           & TA1307000130 & Green St \\& Madison St      & TA1307000120 & member & 2022-12-06 & 12 & 06 & 2022 & Tuesday   &  270 secs\\\\\n",
       "\t 05AD87788BCBF206 & electric\\_bike & 2022-12-06 17:08:45 & 2022-12-06 17:14:43 & Wells St \\& Hubbard St         & TA1307000151 & Green St \\& Madison St      & TA1307000120 & member & 2022-12-06 & 12 & 06 & 2022 & Tuesday   &  358 secs\\\\\n",
       "\t AFF5772FD4185626 & classic\\_bike  & 2022-12-03 08:50:08 & 2022-12-03 08:54:17 & Sangamon St \\& Washington Blvd & 13409        & Peoria St \\& Jackson Blvd   & 13158        & member & 2022-12-03 & 12 & 03 & 2022 & Saturday  &  249 secs\\\\\n",
       "\t 7BDEDE9860418B53 & classic\\_bike  & 2022-12-07 06:52:45 & 2022-12-07 06:56:36 & Sangamon St \\& Washington Blvd & 13409        & Peoria St \\& Jackson Blvd   & 13158        & member & 2022-12-07 & 12 & 07 & 2022 & Wednesday &  231 secs\\\\\n",
       "\t 43ABEE85B6E15DCA & classic\\_bike  & 2022-12-05 06:51:04 & 2022-12-05 06:54:48 & Sangamon St \\& Washington Blvd & 13409        & Peoria St \\& Jackson Blvd   & 13158        & member & 2022-12-05 & 12 & 05 & 2022 & Monday    &  224 secs\\\\\n",
       "\t F041C89A3D1F0270 & electric\\_bike & 2022-12-14 17:06:28 & 2022-12-14 17:19:27 & Bernard St \\& Elston Ave       & 18016        & Seeley Ave \\& Roscoe St     & 13144        & member & 2022-12-14 & 12 & 14 & 2022 & Wednesday &  779 secs\\\\\n",
       "\t A2BECB88430BE156 & classic\\_bike  & 2022-12-08 16:27:47 & 2022-12-08 16:32:20 & Wacker Dr \\& Washington St     & KA1503000072 & Green St \\& Madison St      & TA1307000120 & member & 2022-12-08 & 12 & 08 & 2022 & Thursday  &  273 secs\\\\\n",
       "\t 37B392960E566F58 & classic\\_bike  & 2022-12-28 09:37:38 & 2022-12-28 09:41:34 & Sangamon St \\& Washington Blvd & 13409        & Peoria St \\& Jackson Blvd   & 13158        & member & 2022-12-28 & 12 & 28 & 2022 & Wednesday &  236 secs\\\\\n",
       "\t 2DD1587210BA45AE & classic\\_bike  & 2022-12-09 00:27:25 & 2022-12-09 00:35:28 & Southport Ave \\& Waveland Ave  & 13235        & Seeley Ave \\& Roscoe St     & 13144        & casual & 2022-12-09 & 12 & 09 & 2022 & Friday    &  483 secs\\\\\n",
       "\\end{tabular}\n"
      ],
      "text/markdown": [
       "\n",
       "A data.frame: 5667717 × 15\n",
       "\n",
       "| ride_id &lt;chr&gt; | rideable_type &lt;chr&gt; | started_at &lt;chr&gt; | ended_at &lt;chr&gt; | start_station_name &lt;chr&gt; | start_station_id &lt;chr&gt; | end_station_name &lt;chr&gt; | end_station_id &lt;chr&gt; | member_casual &lt;chr&gt; | date &lt;date&gt; | month &lt;chr&gt; | day &lt;chr&gt; | year &lt;chr&gt; | day_of_week &lt;chr&gt; | ride_length &lt;drtn&gt; |\n",
       "|---|---|---|---|---|---|---|---|---|---|---|---|---|---|---|\n",
       "| C2F7DD78E82EC875 | electric_bike | 2022-01-13 11:59:47 | 2022-01-13 12:02:44 | Glenwood Ave &amp; Touhy Ave      | 525          | Clark St &amp; Touhy Ave          | RP-007       | casual | 2022-01-13 | 01 | 13 | 2022 | Thursday  |  177 secs |\n",
       "| A6CF8980A652D272 | electric_bike | 2022-01-10 08:41:56 | 2022-01-10 08:46:17 | Glenwood Ave &amp; Touhy Ave      | 525          | Clark St &amp; Touhy Ave          | RP-007       | casual | 2022-01-10 | 01 | 10 | 2022 | Monday    |  261 secs |\n",
       "| BD0F91DFF741C66D | classic_bike  | 2022-01-25 04:53:40 | 2022-01-25 04:58:01 | Sheffield Ave &amp; Fullerton Ave | TA1306000016 | Greenview Ave &amp; Fullerton Ave | TA1307000001 | member | 2022-01-25 | 01 | 25 | 2022 | Tuesday   |  261 secs |\n",
       "| CBB80ED419105406 | classic_bike  | 2022-01-04 00:18:04 | 2022-01-04 00:33:00 | Clark St &amp; Bryn Mawr Ave      | KA1504000151 | Paulina St &amp; Montrose Ave     | TA1309000021 | casual | 2022-01-04 | 01 | 04 | 2022 | Tuesday   |  896 secs |\n",
       "| DDC963BFDDA51EEA | classic_bike  | 2022-01-20 01:31:10 | 2022-01-20 01:37:12 | Michigan Ave &amp; Jackson Blvd   | TA1309000002 | State St &amp; Randolph St        | TA1305000029 | member | 2022-01-20 | 01 | 20 | 2022 | Thursday  |  362 secs |\n",
       "| A39C6F6CC0586C0B | classic_bike  | 2022-01-11 18:48:09 | 2022-01-11 18:51:31 | Wood St &amp; Chicago Ave         | 637          | Honore St &amp; Division St       | TA1305000034 | member | 2022-01-11 | 01 | 11 | 2022 | Tuesday   |  202 secs |\n",
       "| BDC4AB637EDF981B | classic_bike  | 2022-01-30 18:32:52 | 2022-01-30 18:49:26 | Oakley Ave &amp; Irving Park Rd   | KA1504000158 | Broadway &amp; Sheridan Rd        | 13323        | member | 2022-01-30 | 01 | 30 | 2022 | Sunday    |  994 secs |\n",
       "| 81751A3186E59A6B | classic_bike  | 2022-01-22 12:20:02 | 2022-01-22 12:32:06 | Sheffield Ave &amp; Fullerton Ave | TA1306000016 | Damen Ave &amp; Clybourn Ave      | 13271        | member | 2022-01-22 | 01 | 22 | 2022 | Saturday  |  724 secs |\n",
       "| 154222B86A338ABD | electric_bike | 2022-01-17 07:34:41 | 2022-01-17 08:00:08 | Racine Ave &amp; 15th St          | 13304        | Clinton St &amp; Washington Blvd  | WL-012       | member | 2022-01-17 | 01 | 17 | 2022 | Monday    | 1527 secs |\n",
       "| 72DC25B2DD467EEF | classic_bike  | 2022-01-28 15:27:53 | 2022-01-28 15:35:16 | LaSalle St &amp; Jackson Blvd     | TA1309000004 | Clinton St &amp; Washington Blvd  | WL-012       | member | 2022-01-28 | 01 | 28 | 2022 | Friday    |  443 secs |\n",
       "| F20394FE09C63DB2 | classic_bike  | 2022-01-11 18:27:59 | 2022-01-11 18:34:20 | LaSalle St &amp; Jackson Blvd     | TA1309000004 | Clinton St &amp; Washington Blvd  | WL-012       | member | 2022-01-11 | 01 | 11 | 2022 | Tuesday   |  381 secs |\n",
       "| 006D3F363CF9600B | electric_bike | 2022-01-29 12:30:43 | 2022-01-29 12:43:04 | Clarendon Ave &amp; Leland Ave    | TA1307000119 | Broadway &amp; Granville Ave      | 15571        | member | 2022-01-29 | 01 | 29 | 2022 | Saturday  |  741 secs |\n",
       "| FB258EEBE89F4E17 | classic_bike  | 2022-01-02 17:56:18 | 2022-01-02 18:05:38 | Sheffield Ave &amp; Fullerton Ave | TA1306000016 | Stockton Dr &amp; Wrightwood Ave  | 13276        | member | 2022-01-02 | 01 | 02 | 2022 | Sunday    |  560 secs |\n",
       "| 2EF51270B08DEE03 | classic_bike  | 2022-01-20 22:03:06 | 2022-01-20 22:09:59 | Rush St &amp; Superior St         | 15530        | Larrabee St &amp; Kingsbury St    | TA1306000009 | member | 2022-01-20 | 01 | 20 | 2022 | Thursday  |  413 secs |\n",
       "| E119D4E6BF686601 | electric_bike | 2022-01-08 05:36:40 | 2022-01-08 05:46:40 | Michigan Ave &amp; Jackson Blvd   | TA1309000002 | St. Clair St &amp; Erie St        | 13016        | casual | 2022-01-08 | 01 | 08 | 2022 | Saturday  |  600 secs |\n",
       "| 7DD70C4AA0F3EA7B | classic_bike  | 2022-01-14 05:47:07 | 2022-01-14 05:47:39 | Lincoln Park Conservatory     | LP-          | Lincoln Park Conservatory     | LP-          | member | 2022-01-14 | 01 | 14 | 2022 | Friday    |   32 secs |\n",
       "| 0AA241497B970400 | classic_bike  | 2022-01-12 14:09:13 | 2022-01-12 14:10:53 | LaSalle St &amp; Jackson Blvd     | TA1309000004 | Clark St &amp; Ida B Wells Dr     | TA1305000009 | member | 2022-01-12 | 01 | 12 | 2022 | Wednesday |  100 secs |\n",
       "| F5E6D97D85BE8039 | classic_bike  | 2022-01-31 12:07:45 | 2022-01-31 12:12:48 | Michigan Ave &amp; Jackson Blvd   | TA1309000002 | Indiana Ave &amp; Roosevelt Rd    | SL-005       | member | 2022-01-31 | 01 | 31 | 2022 | Monday    |  303 secs |\n",
       "| 78168928DF06A497 | classic_bike  | 2022-01-28 17:21:59 | 2022-01-28 17:26:54 | Michigan Ave &amp; Jackson Blvd   | TA1309000002 | Indiana Ave &amp; Roosevelt Rd    | SL-005       | member | 2022-01-28 | 01 | 28 | 2022 | Friday    |  295 secs |\n",
       "| 15C176B55C2BC059 | classic_bike  | 2022-01-19 21:00:40 | 2022-01-19 21:09:56 | Clark St &amp; Bryn Mawr Ave      | KA1504000151 | Clark St &amp; Schreiber Ave      | KA1504000156 | member | 2022-01-19 | 01 | 19 | 2022 | Wednesday |  556 secs |\n",
       "| 12D2B5AA545EF922 | classic_bike  | 2022-01-24 15:19:37 | 2022-01-24 15:45:27 | Lincoln Park Conservatory     | LP-          | Michigan Ave &amp; Washington St  | 13001        | member | 2022-01-24 | 01 | 24 | 2022 | Monday    | 1550 secs |\n",
       "| 1A185AF405E7B2DB | classic_bike  | 2022-01-13 12:47:10 | 2022-01-13 13:10:20 | Sedgwick St &amp; North Ave       | TA1307000038 | Sedgwick St &amp; North Ave       | TA1307000038 | member | 2022-01-13 | 01 | 13 | 2022 | Thursday  | 1390 secs |\n",
       "| 9D4AAF43A011FC59 | electric_bike | 2022-01-18 08:03:16 | 2022-01-18 08:08:00 | California Ave &amp; Altgeld St   | 15646        | Milwaukee Ave &amp; Rockwell St   | 13242        | casual | 2022-01-18 | 01 | 18 | 2022 | Tuesday   |  284 secs |\n",
       "| A209F8E0E84D49B4 | classic_bike  | 2022-01-25 14:46:24 | 2022-01-25 15:00:27 | Sheffield Ave &amp; Fullerton Ave | TA1306000016 | Halsted St &amp; Roscoe St        | TA1309000025 | member | 2022-01-25 | 01 | 25 | 2022 | Tuesday   |  843 secs |\n",
       "| 6D6B462903DCB23F | electric_bike | 2022-01-10 06:44:21 | 2022-01-10 06:51:28 | Racine Ave &amp; 15th St          | 13304        | Wolcott Ave &amp; Polk St         | TA1309000064 | member | 2022-01-10 | 01 | 10 | 2022 | Monday    |  427 secs |\n",
       "| DC809CD3B3F3BFC9 | classic_bike  | 2022-01-22 15:14:32 | 2022-01-22 15:25:21 | Indiana Ave &amp; 31st St         | TA1308000036 | Emerald Ave &amp; 31st St         | TA1309000055 | member | 2022-01-22 | 01 | 22 | 2022 | Saturday  |  649 secs |\n",
       "| 1C2362DAD4090D8A | electric_bike | 2022-01-03 00:12:42 | 2022-01-03 00:17:50 | Indiana Ave &amp; 31st St         | TA1308000036 | Indiana Ave &amp; 40th St         | 13083        | casual | 2022-01-03 | 01 | 03 | 2022 | Monday    |  308 secs |\n",
       "| AB4032C2B151D137 | classic_bike  | 2022-01-31 18:58:30 | 2022-01-31 19:05:17 | Lake Park Ave &amp; 56th St       | TA1309000063 | Shore Dr &amp; 55th St            | TA1308000009 | member | 2022-01-31 | 01 | 31 | 2022 | Monday    |  407 secs |\n",
       "| E6B6D4531ADC9F52 | classic_bike  | 2022-01-15 17:41:15 | 2022-01-15 17:48:54 | Sheffield Ave &amp; Fullerton Ave | TA1306000016 | Ashland Ave &amp; Wrightwood Ave  | 13296        | member | 2022-01-15 | 01 | 15 | 2022 | Saturday  |  459 secs |\n",
       "| 81B423963BA2C10C | classic_bike  | 2022-01-24 10:15:53 | 2022-01-24 10:39:53 | Lincoln Park Conservatory     | LP-          | Daley Center Plaza            | TA1306000010 | member | 2022-01-24 | 01 | 24 | 2022 | Monday    | 1440 secs |\n",
       "| ⋮ | ⋮ | ⋮ | ⋮ | ⋮ | ⋮ | ⋮ | ⋮ | ⋮ | ⋮ | ⋮ | ⋮ | ⋮ | ⋮ | ⋮ |\n",
       "| D0EE0137BE1CFE2F | electric_bike | 2022-12-31 11:51:58 | 2022-12-31 12:01:21 | Dearborn St &amp; Monroe St       | TA1305000006 | Green St &amp; Madison St      | TA1307000120 | casual | 2022-12-31 | 12 | 31 | 2022 | Saturday  |  563 secs |\n",
       "| 8D7BAB2233A72E76 | electric_bike | 2022-12-04 09:02:16 | 2022-12-04 09:14:19 | Morgan St &amp; 18th St           | 13163        | Green St &amp; Madison St      | TA1307000120 | casual | 2022-12-04 | 12 | 04 | 2022 | Sunday    |  723 secs |\n",
       "| F6E149C279E9003C | electric_bike | 2022-12-31 14:23:08 | 2022-12-31 14:50:13 | Morgan St &amp; 18th St           | 13163        | Seeley Ave &amp; Roscoe St     | 13144        | casual | 2022-12-31 | 12 | 31 | 2022 | Saturday  | 1625 secs |\n",
       "| 157AACAF04B4AC1A | electric_bike | 2022-12-05 17:51:38 | 2022-12-05 17:58:40 | Dearborn St &amp; Monroe St       | TA1305000006 | Green St &amp; Madison St      | TA1307000120 | member | 2022-12-05 | 12 | 05 | 2022 | Monday    |  422 secs |\n",
       "| 13618E9C77157B38 | classic_bike  | 2022-12-28 16:50:14 | 2022-12-28 16:56:51 | Dearborn St &amp; Monroe St       | TA1305000006 | Green St &amp; Madison St      | TA1307000120 | member | 2022-12-28 | 12 | 28 | 2022 | Wednesday |  397 secs |\n",
       "| 740FE55B98D3D886 | classic_bike  | 2022-12-24 00:10:03 | 2022-12-24 00:28:10 | Wood St &amp; Milwaukee Ave       | 13221        | Green St &amp; Madison St      | TA1307000120 | member | 2022-12-24 | 12 | 24 | 2022 | Saturday  | 1087 secs |\n",
       "| 40711C802C946CC5 | classic_bike  | 2022-12-15 12:57:49 | 2022-12-15 13:13:32 | Michigan Ave &amp; Washington St  | 13001        | Peoria St &amp; Jackson Blvd   | 13158        | member | 2022-12-15 | 12 | 15 | 2022 | Thursday  |  943 secs |\n",
       "| B621CD5AF243328B | classic_bike  | 2022-12-31 16:09:36 | 2022-12-31 16:15:31 | Canal St &amp; Taylor St          | 15550        | Peoria St &amp; Jackson Blvd   | 13158        | member | 2022-12-31 | 12 | 31 | 2022 | Saturday  |  355 secs |\n",
       "| 3B564ED03FE887DC | classic_bike  | 2022-12-30 22:06:29 | 2022-12-30 22:13:51 | Canal St &amp; Taylor St          | 15550        | Peoria St &amp; Jackson Blvd   | 13158        | member | 2022-12-30 | 12 | 30 | 2022 | Friday    |  442 secs |\n",
       "| 69FBC651C6C9C54B | classic_bike  | 2022-12-11 18:25:13 | 2022-12-11 18:28:32 | Canal St &amp; Taylor St          | 15550        | Clinton St &amp; Tilden St     | 13037        | member | 2022-12-11 | 12 | 11 | 2022 | Sunday    |  199 secs |\n",
       "| 10EC1B8665061739 | classic_bike  | 2022-12-15 09:41:06 | 2022-12-15 09:44:57 | Canal St &amp; Taylor St          | 15550        | Clinton St &amp; Tilden St     | 13037        | member | 2022-12-15 | 12 | 15 | 2022 | Thursday  |  231 secs |\n",
       "| 4A6809171F7BBFF6 | electric_bike | 2022-12-19 20:30:11 | 2022-12-19 20:40:31 | Wood St &amp; Milwaukee Ave       | 13221        | Peoria St &amp; Jackson Blvd   | 13158        | member | 2022-12-19 | 12 | 19 | 2022 | Monday    |  620 secs |\n",
       "| CA31CD8A7A313F31 | classic_bike  | 2022-12-28 14:51:01 | 2022-12-28 14:54:39 | Canal St &amp; Taylor St          | 15550        | Clinton St &amp; Tilden St     | 13037        | member | 2022-12-28 | 12 | 28 | 2022 | Wednesday |  218 secs |\n",
       "| 97230033D8C1B22F | classic_bike  | 2022-12-15 16:44:58 | 2022-12-15 16:47:46 | Larrabee St &amp; Armitage Ave    | TA1309000006 | Larrabee St &amp; Menomonee St | TA1306000007 | member | 2022-12-15 | 12 | 15 | 2022 | Thursday  |  168 secs |\n",
       "| 269378CDD3A89538 | electric_bike | 2022-12-18 11:06:45 | 2022-12-18 11:14:45 | Throop St &amp; Taylor St         | 13139        | Peoria St &amp; Jackson Blvd   | 13158        | casual | 2022-12-18 | 12 | 18 | 2022 | Sunday    |  480 secs |\n",
       "| 91D4BA5F337AFA87 | classic_bike  | 2022-12-28 14:35:36 | 2022-12-28 14:43:16 | Dearborn St &amp; Monroe St       | TA1305000006 | Green St &amp; Madison St      | TA1307000120 | member | 2022-12-28 | 12 | 28 | 2022 | Wednesday |  460 secs |\n",
       "| 283636179A819BD9 | classic_bike  | 2022-12-01 16:19:11 | 2022-12-01 16:29:23 | Michigan Ave &amp; Washington St  | 13001        | Green St &amp; Madison St      | TA1307000120 | member | 2022-12-01 | 12 | 01 | 2022 | Thursday  |  612 secs |\n",
       "| 397D3F6E37CC753E | classic_bike  | 2022-12-15 11:35:53 | 2022-12-15 11:39:22 | Canal St &amp; Taylor St          | 15550        | Clinton St &amp; Tilden St     | 13037        | member | 2022-12-15 | 12 | 15 | 2022 | Thursday  |  209 secs |\n",
       "| 856E6CB8A83DAE6A | electric_bike | 2022-12-29 17:31:30 | 2022-12-29 17:52:58 | California Ave &amp; Fletcher St  | 15642        | Green St &amp; Madison St      | TA1307000120 | casual | 2022-12-29 | 12 | 29 | 2022 | Thursday  | 1288 secs |\n",
       "| 1CE1BE852794BD42 | electric_bike | 2022-12-21 12:46:36 | 2022-12-21 12:49:51 | Canal St &amp; Taylor St          | 15550        | Clinton St &amp; Tilden St     | 13037        | member | 2022-12-21 | 12 | 21 | 2022 | Wednesday |  195 secs |\n",
       "| EB7999FF9DBC0535 | electric_bike | 2022-12-21 19:08:04 | 2022-12-21 19:17:14 | Michigan Ave &amp; Washington St  | 13001        | Peoria St &amp; Jackson Blvd   | 13158        | member | 2022-12-21 | 12 | 21 | 2022 | Wednesday |  550 secs |\n",
       "| 08BE55EE693263E5 | electric_bike | 2022-12-06 09:02:21 | 2022-12-06 09:06:51 | Morgan St &amp; Polk St           | TA1307000130 | Green St &amp; Madison St      | TA1307000120 | member | 2022-12-06 | 12 | 06 | 2022 | Tuesday   |  270 secs |\n",
       "| 05AD87788BCBF206 | electric_bike | 2022-12-06 17:08:45 | 2022-12-06 17:14:43 | Wells St &amp; Hubbard St         | TA1307000151 | Green St &amp; Madison St      | TA1307000120 | member | 2022-12-06 | 12 | 06 | 2022 | Tuesday   |  358 secs |\n",
       "| AFF5772FD4185626 | classic_bike  | 2022-12-03 08:50:08 | 2022-12-03 08:54:17 | Sangamon St &amp; Washington Blvd | 13409        | Peoria St &amp; Jackson Blvd   | 13158        | member | 2022-12-03 | 12 | 03 | 2022 | Saturday  |  249 secs |\n",
       "| 7BDEDE9860418B53 | classic_bike  | 2022-12-07 06:52:45 | 2022-12-07 06:56:36 | Sangamon St &amp; Washington Blvd | 13409        | Peoria St &amp; Jackson Blvd   | 13158        | member | 2022-12-07 | 12 | 07 | 2022 | Wednesday |  231 secs |\n",
       "| 43ABEE85B6E15DCA | classic_bike  | 2022-12-05 06:51:04 | 2022-12-05 06:54:48 | Sangamon St &amp; Washington Blvd | 13409        | Peoria St &amp; Jackson Blvd   | 13158        | member | 2022-12-05 | 12 | 05 | 2022 | Monday    |  224 secs |\n",
       "| F041C89A3D1F0270 | electric_bike | 2022-12-14 17:06:28 | 2022-12-14 17:19:27 | Bernard St &amp; Elston Ave       | 18016        | Seeley Ave &amp; Roscoe St     | 13144        | member | 2022-12-14 | 12 | 14 | 2022 | Wednesday |  779 secs |\n",
       "| A2BECB88430BE156 | classic_bike  | 2022-12-08 16:27:47 | 2022-12-08 16:32:20 | Wacker Dr &amp; Washington St     | KA1503000072 | Green St &amp; Madison St      | TA1307000120 | member | 2022-12-08 | 12 | 08 | 2022 | Thursday  |  273 secs |\n",
       "| 37B392960E566F58 | classic_bike  | 2022-12-28 09:37:38 | 2022-12-28 09:41:34 | Sangamon St &amp; Washington Blvd | 13409        | Peoria St &amp; Jackson Blvd   | 13158        | member | 2022-12-28 | 12 | 28 | 2022 | Wednesday |  236 secs |\n",
       "| 2DD1587210BA45AE | classic_bike  | 2022-12-09 00:27:25 | 2022-12-09 00:35:28 | Southport Ave &amp; Waveland Ave  | 13235        | Seeley Ave &amp; Roscoe St     | 13144        | casual | 2022-12-09 | 12 | 09 | 2022 | Friday    |  483 secs |\n",
       "\n"
      ],
      "text/plain": [
       "        ride_id          rideable_type started_at          ended_at           \n",
       "1       C2F7DD78E82EC875 electric_bike 2022-01-13 11:59:47 2022-01-13 12:02:44\n",
       "2       A6CF8980A652D272 electric_bike 2022-01-10 08:41:56 2022-01-10 08:46:17\n",
       "3       BD0F91DFF741C66D classic_bike  2022-01-25 04:53:40 2022-01-25 04:58:01\n",
       "4       CBB80ED419105406 classic_bike  2022-01-04 00:18:04 2022-01-04 00:33:00\n",
       "5       DDC963BFDDA51EEA classic_bike  2022-01-20 01:31:10 2022-01-20 01:37:12\n",
       "6       A39C6F6CC0586C0B classic_bike  2022-01-11 18:48:09 2022-01-11 18:51:31\n",
       "7       BDC4AB637EDF981B classic_bike  2022-01-30 18:32:52 2022-01-30 18:49:26\n",
       "8       81751A3186E59A6B classic_bike  2022-01-22 12:20:02 2022-01-22 12:32:06\n",
       "9       154222B86A338ABD electric_bike 2022-01-17 07:34:41 2022-01-17 08:00:08\n",
       "10      72DC25B2DD467EEF classic_bike  2022-01-28 15:27:53 2022-01-28 15:35:16\n",
       "11      F20394FE09C63DB2 classic_bike  2022-01-11 18:27:59 2022-01-11 18:34:20\n",
       "12      006D3F363CF9600B electric_bike 2022-01-29 12:30:43 2022-01-29 12:43:04\n",
       "13      FB258EEBE89F4E17 classic_bike  2022-01-02 17:56:18 2022-01-02 18:05:38\n",
       "14      2EF51270B08DEE03 classic_bike  2022-01-20 22:03:06 2022-01-20 22:09:59\n",
       "15      E119D4E6BF686601 electric_bike 2022-01-08 05:36:40 2022-01-08 05:46:40\n",
       "16      7DD70C4AA0F3EA7B classic_bike  2022-01-14 05:47:07 2022-01-14 05:47:39\n",
       "17      0AA241497B970400 classic_bike  2022-01-12 14:09:13 2022-01-12 14:10:53\n",
       "18      F5E6D97D85BE8039 classic_bike  2022-01-31 12:07:45 2022-01-31 12:12:48\n",
       "19      78168928DF06A497 classic_bike  2022-01-28 17:21:59 2022-01-28 17:26:54\n",
       "20      15C176B55C2BC059 classic_bike  2022-01-19 21:00:40 2022-01-19 21:09:56\n",
       "21      12D2B5AA545EF922 classic_bike  2022-01-24 15:19:37 2022-01-24 15:45:27\n",
       "22      1A185AF405E7B2DB classic_bike  2022-01-13 12:47:10 2022-01-13 13:10:20\n",
       "23      9D4AAF43A011FC59 electric_bike 2022-01-18 08:03:16 2022-01-18 08:08:00\n",
       "24      A209F8E0E84D49B4 classic_bike  2022-01-25 14:46:24 2022-01-25 15:00:27\n",
       "25      6D6B462903DCB23F electric_bike 2022-01-10 06:44:21 2022-01-10 06:51:28\n",
       "26      DC809CD3B3F3BFC9 classic_bike  2022-01-22 15:14:32 2022-01-22 15:25:21\n",
       "27      1C2362DAD4090D8A electric_bike 2022-01-03 00:12:42 2022-01-03 00:17:50\n",
       "28      AB4032C2B151D137 classic_bike  2022-01-31 18:58:30 2022-01-31 19:05:17\n",
       "29      E6B6D4531ADC9F52 classic_bike  2022-01-15 17:41:15 2022-01-15 17:48:54\n",
       "30      81B423963BA2C10C classic_bike  2022-01-24 10:15:53 2022-01-24 10:39:53\n",
       "⋮       ⋮                ⋮             ⋮                   ⋮                  \n",
       "5667688 D0EE0137BE1CFE2F electric_bike 2022-12-31 11:51:58 2022-12-31 12:01:21\n",
       "5667689 8D7BAB2233A72E76 electric_bike 2022-12-04 09:02:16 2022-12-04 09:14:19\n",
       "5667690 F6E149C279E9003C electric_bike 2022-12-31 14:23:08 2022-12-31 14:50:13\n",
       "5667691 157AACAF04B4AC1A electric_bike 2022-12-05 17:51:38 2022-12-05 17:58:40\n",
       "5667692 13618E9C77157B38 classic_bike  2022-12-28 16:50:14 2022-12-28 16:56:51\n",
       "5667693 740FE55B98D3D886 classic_bike  2022-12-24 00:10:03 2022-12-24 00:28:10\n",
       "5667694 40711C802C946CC5 classic_bike  2022-12-15 12:57:49 2022-12-15 13:13:32\n",
       "5667695 B621CD5AF243328B classic_bike  2022-12-31 16:09:36 2022-12-31 16:15:31\n",
       "5667696 3B564ED03FE887DC classic_bike  2022-12-30 22:06:29 2022-12-30 22:13:51\n",
       "5667697 69FBC651C6C9C54B classic_bike  2022-12-11 18:25:13 2022-12-11 18:28:32\n",
       "5667698 10EC1B8665061739 classic_bike  2022-12-15 09:41:06 2022-12-15 09:44:57\n",
       "5667699 4A6809171F7BBFF6 electric_bike 2022-12-19 20:30:11 2022-12-19 20:40:31\n",
       "5667700 CA31CD8A7A313F31 classic_bike  2022-12-28 14:51:01 2022-12-28 14:54:39\n",
       "5667701 97230033D8C1B22F classic_bike  2022-12-15 16:44:58 2022-12-15 16:47:46\n",
       "5667702 269378CDD3A89538 electric_bike 2022-12-18 11:06:45 2022-12-18 11:14:45\n",
       "5667703 91D4BA5F337AFA87 classic_bike  2022-12-28 14:35:36 2022-12-28 14:43:16\n",
       "5667704 283636179A819BD9 classic_bike  2022-12-01 16:19:11 2022-12-01 16:29:23\n",
       "5667705 397D3F6E37CC753E classic_bike  2022-12-15 11:35:53 2022-12-15 11:39:22\n",
       "5667706 856E6CB8A83DAE6A electric_bike 2022-12-29 17:31:30 2022-12-29 17:52:58\n",
       "5667707 1CE1BE852794BD42 electric_bike 2022-12-21 12:46:36 2022-12-21 12:49:51\n",
       "5667708 EB7999FF9DBC0535 electric_bike 2022-12-21 19:08:04 2022-12-21 19:17:14\n",
       "5667709 08BE55EE693263E5 electric_bike 2022-12-06 09:02:21 2022-12-06 09:06:51\n",
       "5667710 05AD87788BCBF206 electric_bike 2022-12-06 17:08:45 2022-12-06 17:14:43\n",
       "5667711 AFF5772FD4185626 classic_bike  2022-12-03 08:50:08 2022-12-03 08:54:17\n",
       "5667712 7BDEDE9860418B53 classic_bike  2022-12-07 06:52:45 2022-12-07 06:56:36\n",
       "5667713 43ABEE85B6E15DCA classic_bike  2022-12-05 06:51:04 2022-12-05 06:54:48\n",
       "5667714 F041C89A3D1F0270 electric_bike 2022-12-14 17:06:28 2022-12-14 17:19:27\n",
       "5667715 A2BECB88430BE156 classic_bike  2022-12-08 16:27:47 2022-12-08 16:32:20\n",
       "5667716 37B392960E566F58 classic_bike  2022-12-28 09:37:38 2022-12-28 09:41:34\n",
       "5667717 2DD1587210BA45AE classic_bike  2022-12-09 00:27:25 2022-12-09 00:35:28\n",
       "        start_station_name            start_station_id\n",
       "1       Glenwood Ave & Touhy Ave      525             \n",
       "2       Glenwood Ave & Touhy Ave      525             \n",
       "3       Sheffield Ave & Fullerton Ave TA1306000016    \n",
       "4       Clark St & Bryn Mawr Ave      KA1504000151    \n",
       "5       Michigan Ave & Jackson Blvd   TA1309000002    \n",
       "6       Wood St & Chicago Ave         637             \n",
       "7       Oakley Ave & Irving Park Rd   KA1504000158    \n",
       "8       Sheffield Ave & Fullerton Ave TA1306000016    \n",
       "9       Racine Ave & 15th St          13304           \n",
       "10      LaSalle St & Jackson Blvd     TA1309000004    \n",
       "11      LaSalle St & Jackson Blvd     TA1309000004    \n",
       "12      Clarendon Ave & Leland Ave    TA1307000119    \n",
       "13      Sheffield Ave & Fullerton Ave TA1306000016    \n",
       "14      Rush St & Superior St         15530           \n",
       "15      Michigan Ave & Jackson Blvd   TA1309000002    \n",
       "16      Lincoln Park Conservatory     LP-             \n",
       "17      LaSalle St & Jackson Blvd     TA1309000004    \n",
       "18      Michigan Ave & Jackson Blvd   TA1309000002    \n",
       "19      Michigan Ave & Jackson Blvd   TA1309000002    \n",
       "20      Clark St & Bryn Mawr Ave      KA1504000151    \n",
       "21      Lincoln Park Conservatory     LP-             \n",
       "22      Sedgwick St & North Ave       TA1307000038    \n",
       "23      California Ave & Altgeld St   15646           \n",
       "24      Sheffield Ave & Fullerton Ave TA1306000016    \n",
       "25      Racine Ave & 15th St          13304           \n",
       "26      Indiana Ave & 31st St         TA1308000036    \n",
       "27      Indiana Ave & 31st St         TA1308000036    \n",
       "28      Lake Park Ave & 56th St       TA1309000063    \n",
       "29      Sheffield Ave & Fullerton Ave TA1306000016    \n",
       "30      Lincoln Park Conservatory     LP-             \n",
       "⋮       ⋮                             ⋮               \n",
       "5667688 Dearborn St & Monroe St       TA1305000006    \n",
       "5667689 Morgan St & 18th St           13163           \n",
       "5667690 Morgan St & 18th St           13163           \n",
       "5667691 Dearborn St & Monroe St       TA1305000006    \n",
       "5667692 Dearborn St & Monroe St       TA1305000006    \n",
       "5667693 Wood St & Milwaukee Ave       13221           \n",
       "5667694 Michigan Ave & Washington St  13001           \n",
       "5667695 Canal St & Taylor St          15550           \n",
       "5667696 Canal St & Taylor St          15550           \n",
       "5667697 Canal St & Taylor St          15550           \n",
       "5667698 Canal St & Taylor St          15550           \n",
       "5667699 Wood St & Milwaukee Ave       13221           \n",
       "5667700 Canal St & Taylor St          15550           \n",
       "5667701 Larrabee St & Armitage Ave    TA1309000006    \n",
       "5667702 Throop St & Taylor St         13139           \n",
       "5667703 Dearborn St & Monroe St       TA1305000006    \n",
       "5667704 Michigan Ave & Washington St  13001           \n",
       "5667705 Canal St & Taylor St          15550           \n",
       "5667706 California Ave & Fletcher St  15642           \n",
       "5667707 Canal St & Taylor St          15550           \n",
       "5667708 Michigan Ave & Washington St  13001           \n",
       "5667709 Morgan St & Polk St           TA1307000130    \n",
       "5667710 Wells St & Hubbard St         TA1307000151    \n",
       "5667711 Sangamon St & Washington Blvd 13409           \n",
       "5667712 Sangamon St & Washington Blvd 13409           \n",
       "5667713 Sangamon St & Washington Blvd 13409           \n",
       "5667714 Bernard St & Elston Ave       18016           \n",
       "5667715 Wacker Dr & Washington St     KA1503000072    \n",
       "5667716 Sangamon St & Washington Blvd 13409           \n",
       "5667717 Southport Ave & Waveland Ave  13235           \n",
       "        end_station_name              end_station_id member_casual date      \n",
       "1       Clark St & Touhy Ave          RP-007         casual        2022-01-13\n",
       "2       Clark St & Touhy Ave          RP-007         casual        2022-01-10\n",
       "3       Greenview Ave & Fullerton Ave TA1307000001   member        2022-01-25\n",
       "4       Paulina St & Montrose Ave     TA1309000021   casual        2022-01-04\n",
       "5       State St & Randolph St        TA1305000029   member        2022-01-20\n",
       "6       Honore St & Division St       TA1305000034   member        2022-01-11\n",
       "7       Broadway & Sheridan Rd        13323          member        2022-01-30\n",
       "8       Damen Ave & Clybourn Ave      13271          member        2022-01-22\n",
       "9       Clinton St & Washington Blvd  WL-012         member        2022-01-17\n",
       "10      Clinton St & Washington Blvd  WL-012         member        2022-01-28\n",
       "11      Clinton St & Washington Blvd  WL-012         member        2022-01-11\n",
       "12      Broadway & Granville Ave      15571          member        2022-01-29\n",
       "13      Stockton Dr & Wrightwood Ave  13276          member        2022-01-02\n",
       "14      Larrabee St & Kingsbury St    TA1306000009   member        2022-01-20\n",
       "15      St. Clair St & Erie St        13016          casual        2022-01-08\n",
       "16      Lincoln Park Conservatory     LP-            member        2022-01-14\n",
       "17      Clark St & Ida B Wells Dr     TA1305000009   member        2022-01-12\n",
       "18      Indiana Ave & Roosevelt Rd    SL-005         member        2022-01-31\n",
       "19      Indiana Ave & Roosevelt Rd    SL-005         member        2022-01-28\n",
       "20      Clark St & Schreiber Ave      KA1504000156   member        2022-01-19\n",
       "21      Michigan Ave & Washington St  13001          member        2022-01-24\n",
       "22      Sedgwick St & North Ave       TA1307000038   member        2022-01-13\n",
       "23      Milwaukee Ave & Rockwell St   13242          casual        2022-01-18\n",
       "24      Halsted St & Roscoe St        TA1309000025   member        2022-01-25\n",
       "25      Wolcott Ave & Polk St         TA1309000064   member        2022-01-10\n",
       "26      Emerald Ave & 31st St         TA1309000055   member        2022-01-22\n",
       "27      Indiana Ave & 40th St         13083          casual        2022-01-03\n",
       "28      Shore Dr & 55th St            TA1308000009   member        2022-01-31\n",
       "29      Ashland Ave & Wrightwood Ave  13296          member        2022-01-15\n",
       "30      Daley Center Plaza            TA1306000010   member        2022-01-24\n",
       "⋮       ⋮                             ⋮              ⋮             ⋮         \n",
       "5667688 Green St & Madison St         TA1307000120   casual        2022-12-31\n",
       "5667689 Green St & Madison St         TA1307000120   casual        2022-12-04\n",
       "5667690 Seeley Ave & Roscoe St        13144          casual        2022-12-31\n",
       "5667691 Green St & Madison St         TA1307000120   member        2022-12-05\n",
       "5667692 Green St & Madison St         TA1307000120   member        2022-12-28\n",
       "5667693 Green St & Madison St         TA1307000120   member        2022-12-24\n",
       "5667694 Peoria St & Jackson Blvd      13158          member        2022-12-15\n",
       "5667695 Peoria St & Jackson Blvd      13158          member        2022-12-31\n",
       "5667696 Peoria St & Jackson Blvd      13158          member        2022-12-30\n",
       "5667697 Clinton St & Tilden St        13037          member        2022-12-11\n",
       "5667698 Clinton St & Tilden St        13037          member        2022-12-15\n",
       "5667699 Peoria St & Jackson Blvd      13158          member        2022-12-19\n",
       "5667700 Clinton St & Tilden St        13037          member        2022-12-28\n",
       "5667701 Larrabee St & Menomonee St    TA1306000007   member        2022-12-15\n",
       "5667702 Peoria St & Jackson Blvd      13158          casual        2022-12-18\n",
       "5667703 Green St & Madison St         TA1307000120   member        2022-12-28\n",
       "5667704 Green St & Madison St         TA1307000120   member        2022-12-01\n",
       "5667705 Clinton St & Tilden St        13037          member        2022-12-15\n",
       "5667706 Green St & Madison St         TA1307000120   casual        2022-12-29\n",
       "5667707 Clinton St & Tilden St        13037          member        2022-12-21\n",
       "5667708 Peoria St & Jackson Blvd      13158          member        2022-12-21\n",
       "5667709 Green St & Madison St         TA1307000120   member        2022-12-06\n",
       "5667710 Green St & Madison St         TA1307000120   member        2022-12-06\n",
       "5667711 Peoria St & Jackson Blvd      13158          member        2022-12-03\n",
       "5667712 Peoria St & Jackson Blvd      13158          member        2022-12-07\n",
       "5667713 Peoria St & Jackson Blvd      13158          member        2022-12-05\n",
       "5667714 Seeley Ave & Roscoe St        13144          member        2022-12-14\n",
       "5667715 Green St & Madison St         TA1307000120   member        2022-12-08\n",
       "5667716 Peoria St & Jackson Blvd      13158          member        2022-12-28\n",
       "5667717 Seeley Ave & Roscoe St        13144          casual        2022-12-09\n",
       "        month day year day_of_week ride_length\n",
       "1       01    13  2022 Thursday     177 secs  \n",
       "2       01    10  2022 Monday       261 secs  \n",
       "3       01    25  2022 Tuesday      261 secs  \n",
       "4       01    04  2022 Tuesday      896 secs  \n",
       "5       01    20  2022 Thursday     362 secs  \n",
       "6       01    11  2022 Tuesday      202 secs  \n",
       "7       01    30  2022 Sunday       994 secs  \n",
       "8       01    22  2022 Saturday     724 secs  \n",
       "9       01    17  2022 Monday      1527 secs  \n",
       "10      01    28  2022 Friday       443 secs  \n",
       "11      01    11  2022 Tuesday      381 secs  \n",
       "12      01    29  2022 Saturday     741 secs  \n",
       "13      01    02  2022 Sunday       560 secs  \n",
       "14      01    20  2022 Thursday     413 secs  \n",
       "15      01    08  2022 Saturday     600 secs  \n",
       "16      01    14  2022 Friday        32 secs  \n",
       "17      01    12  2022 Wednesday    100 secs  \n",
       "18      01    31  2022 Monday       303 secs  \n",
       "19      01    28  2022 Friday       295 secs  \n",
       "20      01    19  2022 Wednesday    556 secs  \n",
       "21      01    24  2022 Monday      1550 secs  \n",
       "22      01    13  2022 Thursday    1390 secs  \n",
       "23      01    18  2022 Tuesday      284 secs  \n",
       "24      01    25  2022 Tuesday      843 secs  \n",
       "25      01    10  2022 Monday       427 secs  \n",
       "26      01    22  2022 Saturday     649 secs  \n",
       "27      01    03  2022 Monday       308 secs  \n",
       "28      01    31  2022 Monday       407 secs  \n",
       "29      01    15  2022 Saturday     459 secs  \n",
       "30      01    24  2022 Monday      1440 secs  \n",
       "⋮       ⋮     ⋮   ⋮    ⋮           ⋮          \n",
       "5667688 12    31  2022 Saturday     563 secs  \n",
       "5667689 12    04  2022 Sunday       723 secs  \n",
       "5667690 12    31  2022 Saturday    1625 secs  \n",
       "5667691 12    05  2022 Monday       422 secs  \n",
       "5667692 12    28  2022 Wednesday    397 secs  \n",
       "5667693 12    24  2022 Saturday    1087 secs  \n",
       "5667694 12    15  2022 Thursday     943 secs  \n",
       "5667695 12    31  2022 Saturday     355 secs  \n",
       "5667696 12    30  2022 Friday       442 secs  \n",
       "5667697 12    11  2022 Sunday       199 secs  \n",
       "5667698 12    15  2022 Thursday     231 secs  \n",
       "5667699 12    19  2022 Monday       620 secs  \n",
       "5667700 12    28  2022 Wednesday    218 secs  \n",
       "5667701 12    15  2022 Thursday     168 secs  \n",
       "5667702 12    18  2022 Sunday       480 secs  \n",
       "5667703 12    28  2022 Wednesday    460 secs  \n",
       "5667704 12    01  2022 Thursday     612 secs  \n",
       "5667705 12    15  2022 Thursday     209 secs  \n",
       "5667706 12    29  2022 Thursday    1288 secs  \n",
       "5667707 12    21  2022 Wednesday    195 secs  \n",
       "5667708 12    21  2022 Wednesday    550 secs  \n",
       "5667709 12    06  2022 Tuesday      270 secs  \n",
       "5667710 12    06  2022 Tuesday      358 secs  \n",
       "5667711 12    03  2022 Saturday     249 secs  \n",
       "5667712 12    07  2022 Wednesday    231 secs  \n",
       "5667713 12    05  2022 Monday       224 secs  \n",
       "5667714 12    14  2022 Wednesday    779 secs  \n",
       "5667715 12    08  2022 Thursday     273 secs  \n",
       "5667716 12    28  2022 Wednesday    236 secs  \n",
       "5667717 12    09  2022 Friday       483 secs  "
      ]
     },
     "metadata": {},
     "output_type": "display_data"
    },
    {
     "name": "stdout",
     "output_type": "stream",
     "text": [
      "'data.frame':\t5667717 obs. of  15 variables:\n",
      " $ ride_id           : chr  \"C2F7DD78E82EC875\" \"A6CF8980A652D272\" \"BD0F91DFF741C66D\" \"CBB80ED419105406\" ...\n",
      " $ rideable_type     : chr  \"electric_bike\" \"electric_bike\" \"classic_bike\" \"classic_bike\" ...\n",
      " $ started_at        : chr  \"2022-01-13 11:59:47\" \"2022-01-10 08:41:56\" \"2022-01-25 04:53:40\" \"2022-01-04 00:18:04\" ...\n",
      " $ ended_at          : chr  \"2022-01-13 12:02:44\" \"2022-01-10 08:46:17\" \"2022-01-25 04:58:01\" \"2022-01-04 00:33:00\" ...\n",
      " $ start_station_name: chr  \"Glenwood Ave & Touhy Ave\" \"Glenwood Ave & Touhy Ave\" \"Sheffield Ave & Fullerton Ave\" \"Clark St & Bryn Mawr Ave\" ...\n",
      " $ start_station_id  : chr  \"525\" \"525\" \"TA1306000016\" \"KA1504000151\" ...\n",
      " $ end_station_name  : chr  \"Clark St & Touhy Ave\" \"Clark St & Touhy Ave\" \"Greenview Ave & Fullerton Ave\" \"Paulina St & Montrose Ave\" ...\n",
      " $ end_station_id    : chr  \"RP-007\" \"RP-007\" \"TA1307000001\" \"TA1309000021\" ...\n",
      " $ member_casual     : chr  \"casual\" \"casual\" \"member\" \"casual\" ...\n",
      " $ date              : Date, format: \"2022-01-13\" \"2022-01-10\" ...\n",
      " $ month             : chr  \"01\" \"01\" \"01\" \"01\" ...\n",
      " $ day               : chr  \"13\" \"10\" \"25\" \"04\" ...\n",
      " $ year              : chr  \"2022\" \"2022\" \"2022\" \"2022\" ...\n",
      " $ day_of_week       : chr  \"Thursday\" \"Monday\" \"Tuesday\" \"Tuesday\" ...\n",
      " $ ride_length       : 'difftime' num  177 261 261 896 ...\n",
      "  ..- attr(*, \"units\")= chr \"secs\"\n"
     ]
    },
    {
     "data": {
      "text/plain": [
       "   ride_id          rideable_type       started_at          ended_at        \n",
       " Length:5667717     Length:5667717     Length:5667717     Length:5667717    \n",
       " Class :character   Class :character   Class :character   Class :character  \n",
       " Mode  :character   Mode  :character   Mode  :character   Mode  :character  \n",
       "                                                                            \n",
       "                                                                            \n",
       "                                                                            \n",
       " start_station_name start_station_id   end_station_name   end_station_id    \n",
       " Length:5667717     Length:5667717     Length:5667717     Length:5667717    \n",
       " Class :character   Class :character   Class :character   Class :character  \n",
       " Mode  :character   Mode  :character   Mode  :character   Mode  :character  \n",
       "                                                                            \n",
       "                                                                            \n",
       "                                                                            \n",
       " member_casual           date               month               day           \n",
       " Length:5667717     Min.   :2022-01-01   Length:5667717     Length:5667717    \n",
       " Class :character   1st Qu.:2022-05-28   Class :character   Class :character  \n",
       " Mode  :character   Median :2022-07-22   Mode  :character   Mode  :character  \n",
       "                    Mean   :2022-07-19                                        \n",
       "                    3rd Qu.:2022-09-16                                        \n",
       "                    Max.   :2022-12-31                                        \n",
       "     year           day_of_week        ride_length      \n",
       " Length:5667717     Length:5667717     Length:5667717   \n",
       " Class :character   Class :character   Class :difftime  \n",
       " Mode  :character   Mode  :character   Mode  :numeric   \n",
       "                                                        \n",
       "                                                        \n",
       "                                                        "
      ]
     },
     "metadata": {},
     "output_type": "display_data"
    }
   ],
   "source": [
    "View(y2022)\n",
    "str(y2022)\n",
    "summary(y2022)"
   ]
  },
  {
   "cell_type": "markdown",
   "id": "982936de",
   "metadata": {
    "papermill": {
     "duration": 0.007392,
     "end_time": "2023-03-28T14:26:28.324836",
     "exception": false,
     "start_time": "2023-03-28T14:26:28.317444",
     "status": "completed"
    },
    "tags": []
   },
   "source": [
    "## Analyze Phase:\n",
    "Now it's time to start analyzing.\n",
    "\n",
    "First I check if ride_lenght is numeric so i can work with it and because it's not a make it numeric"
   ]
  },
  {
   "cell_type": "code",
   "execution_count": 5,
   "id": "5e73a6d1",
   "metadata": {
    "execution": {
     "iopub.execute_input": "2023-03-28T14:26:28.342759Z",
     "iopub.status.busy": "2023-03-28T14:26:28.341240Z",
     "iopub.status.idle": "2023-03-28T14:26:35.139718Z",
     "shell.execute_reply": "2023-03-28T14:26:35.138029Z"
    },
    "papermill": {
     "duration": 6.809936,
     "end_time": "2023-03-28T14:26:35.142012",
     "exception": false,
     "start_time": "2023-03-28T14:26:28.332076",
     "status": "completed"
    },
    "tags": []
   },
   "outputs": [
    {
     "data": {
      "text/html": [
       "FALSE"
      ],
      "text/latex": [
       "FALSE"
      ],
      "text/markdown": [
       "FALSE"
      ],
      "text/plain": [
       "[1] FALSE"
      ]
     },
     "metadata": {},
     "output_type": "display_data"
    },
    {
     "data": {
      "text/html": [
       "TRUE"
      ],
      "text/latex": [
       "TRUE"
      ],
      "text/markdown": [
       "TRUE"
      ],
      "text/plain": [
       "[1] TRUE"
      ]
     },
     "metadata": {},
     "output_type": "display_data"
    }
   ],
   "source": [
    "is.numeric(y2022$ride_length)\n",
    "y2022$ride_length <- as.numeric(as.character(y2022$ride_length))\n",
    "is.numeric(y2022$ride_length)"
   ]
  },
  {
   "cell_type": "markdown",
   "id": "ffc6620b",
   "metadata": {
    "papermill": {
     "duration": 0.008396,
     "end_time": "2023-03-28T14:26:35.158107",
     "exception": false,
     "start_time": "2023-03-28T14:26:35.149711",
     "status": "completed"
    },
    "tags": []
   },
   "source": [
    "I clean some data that isn't about member's/ casual's trips.\n",
    "And I checked a summary of the data and aggregated some important data for this capstone."
   ]
  },
  {
   "cell_type": "code",
   "execution_count": 6,
   "id": "96123431",
   "metadata": {
    "execution": {
     "iopub.execute_input": "2023-03-28T14:26:35.176442Z",
     "iopub.status.busy": "2023-03-28T14:26:35.174942Z",
     "iopub.status.idle": "2023-03-28T14:27:16.107617Z",
     "shell.execute_reply": "2023-03-28T14:27:16.106055Z"
    },
    "papermill": {
     "duration": 40.953391,
     "end_time": "2023-03-28T14:27:16.118953",
     "exception": false,
     "start_time": "2023-03-28T14:26:35.165562",
     "status": "completed"
    },
    "tags": []
   },
   "outputs": [
    {
     "data": {
      "text/plain": [
       "   Min. 1st Qu.  Median    Mean 3rd Qu.    Max. \n",
       "-621201     349     617    1167    1108 2483235 "
      ]
     },
     "metadata": {},
     "output_type": "display_data"
    },
    {
     "data": {
      "text/html": [
       "<table class=\"dataframe\">\n",
       "<caption>A data.frame: 2 × 2</caption>\n",
       "<thead>\n",
       "\t<tr><th scope=col>y2022$member_casual</th><th scope=col>y2022$ride_length</th></tr>\n",
       "\t<tr><th scope=col>&lt;chr&gt;</th><th scope=col>&lt;dbl&gt;</th></tr>\n",
       "</thead>\n",
       "<tbody>\n",
       "\t<tr><td>casual</td><td>1748.6577</td></tr>\n",
       "\t<tr><td>member</td><td> 762.6251</td></tr>\n",
       "</tbody>\n",
       "</table>\n"
      ],
      "text/latex": [
       "A data.frame: 2 × 2\n",
       "\\begin{tabular}{ll}\n",
       " y2022\\$member\\_casual & y2022\\$ride\\_length\\\\\n",
       " <chr> & <dbl>\\\\\n",
       "\\hline\n",
       "\t casual & 1748.6577\\\\\n",
       "\t member &  762.6251\\\\\n",
       "\\end{tabular}\n"
      ],
      "text/markdown": [
       "\n",
       "A data.frame: 2 × 2\n",
       "\n",
       "| y2022$member_casual &lt;chr&gt; | y2022$ride_length &lt;dbl&gt; |\n",
       "|---|---|\n",
       "| casual | 1748.6577 |\n",
       "| member |  762.6251 |\n",
       "\n"
      ],
      "text/plain": [
       "  y2022$member_casual y2022$ride_length\n",
       "1 casual              1748.6577        \n",
       "2 member               762.6251        "
      ]
     },
     "metadata": {},
     "output_type": "display_data"
    },
    {
     "data": {
      "text/html": [
       "<table class=\"dataframe\">\n",
       "<caption>A data.frame: 2 × 2</caption>\n",
       "<thead>\n",
       "\t<tr><th scope=col>y2022$member_casual</th><th scope=col>y2022$ride_length</th></tr>\n",
       "\t<tr><th scope=col>&lt;chr&gt;</th><th scope=col>&lt;dbl&gt;</th></tr>\n",
       "</thead>\n",
       "<tbody>\n",
       "\t<tr><td>casual</td><td>780</td></tr>\n",
       "\t<tr><td>member</td><td>530</td></tr>\n",
       "</tbody>\n",
       "</table>\n"
      ],
      "text/latex": [
       "A data.frame: 2 × 2\n",
       "\\begin{tabular}{ll}\n",
       " y2022\\$member\\_casual & y2022\\$ride\\_length\\\\\n",
       " <chr> & <dbl>\\\\\n",
       "\\hline\n",
       "\t casual & 780\\\\\n",
       "\t member & 530\\\\\n",
       "\\end{tabular}\n"
      ],
      "text/markdown": [
       "\n",
       "A data.frame: 2 × 2\n",
       "\n",
       "| y2022$member_casual &lt;chr&gt; | y2022$ride_length &lt;dbl&gt; |\n",
       "|---|---|\n",
       "| casual | 780 |\n",
       "| member | 530 |\n",
       "\n"
      ],
      "text/plain": [
       "  y2022$member_casual y2022$ride_length\n",
       "1 casual              780              \n",
       "2 member              530              "
      ]
     },
     "metadata": {},
     "output_type": "display_data"
    },
    {
     "data": {
      "text/html": [
       "<table class=\"dataframe\">\n",
       "<caption>A data.frame: 2 × 2</caption>\n",
       "<thead>\n",
       "\t<tr><th scope=col>y2022$member_casual</th><th scope=col>y2022$ride_length</th></tr>\n",
       "\t<tr><th scope=col>&lt;chr&gt;</th><th scope=col>&lt;dbl&gt;</th></tr>\n",
       "</thead>\n",
       "<tbody>\n",
       "\t<tr><td>casual</td><td>2483235</td></tr>\n",
       "\t<tr><td>member</td><td>  93594</td></tr>\n",
       "</tbody>\n",
       "</table>\n"
      ],
      "text/latex": [
       "A data.frame: 2 × 2\n",
       "\\begin{tabular}{ll}\n",
       " y2022\\$member\\_casual & y2022\\$ride\\_length\\\\\n",
       " <chr> & <dbl>\\\\\n",
       "\\hline\n",
       "\t casual & 2483235\\\\\n",
       "\t member &   93594\\\\\n",
       "\\end{tabular}\n"
      ],
      "text/markdown": [
       "\n",
       "A data.frame: 2 × 2\n",
       "\n",
       "| y2022$member_casual &lt;chr&gt; | y2022$ride_length &lt;dbl&gt; |\n",
       "|---|---|\n",
       "| casual | 2483235 |\n",
       "| member |   93594 |\n",
       "\n"
      ],
      "text/plain": [
       "  y2022$member_casual y2022$ride_length\n",
       "1 casual              2483235          \n",
       "2 member                93594          "
      ]
     },
     "metadata": {},
     "output_type": "display_data"
    },
    {
     "data": {
      "text/html": [
       "<table class=\"dataframe\">\n",
       "<caption>A data.frame: 2 × 2</caption>\n",
       "<thead>\n",
       "\t<tr><th scope=col>y2022$member_casual</th><th scope=col>y2022$ride_length</th></tr>\n",
       "\t<tr><th scope=col>&lt;chr&gt;</th><th scope=col>&lt;dbl&gt;</th></tr>\n",
       "</thead>\n",
       "<tbody>\n",
       "\t<tr><td>casual</td><td>  -8245</td></tr>\n",
       "\t<tr><td>member</td><td>-621201</td></tr>\n",
       "</tbody>\n",
       "</table>\n"
      ],
      "text/latex": [
       "A data.frame: 2 × 2\n",
       "\\begin{tabular}{ll}\n",
       " y2022\\$member\\_casual & y2022\\$ride\\_length\\\\\n",
       " <chr> & <dbl>\\\\\n",
       "\\hline\n",
       "\t casual &   -8245\\\\\n",
       "\t member & -621201\\\\\n",
       "\\end{tabular}\n"
      ],
      "text/markdown": [
       "\n",
       "A data.frame: 2 × 2\n",
       "\n",
       "| y2022$member_casual &lt;chr&gt; | y2022$ride_length &lt;dbl&gt; |\n",
       "|---|---|\n",
       "| casual |   -8245 |\n",
       "| member | -621201 |\n",
       "\n"
      ],
      "text/plain": [
       "  y2022$member_casual y2022$ride_length\n",
       "1 casual                -8245          \n",
       "2 member              -621201          "
      ]
     },
     "metadata": {},
     "output_type": "display_data"
    },
    {
     "data": {
      "text/html": [
       "<table class=\"dataframe\">\n",
       "<caption>A data.frame: 14 × 3</caption>\n",
       "<thead>\n",
       "\t<tr><th scope=col>y2022$member_casual</th><th scope=col>y2022$day_of_week</th><th scope=col>y2022$ride_length</th></tr>\n",
       "\t<tr><th scope=col>&lt;chr&gt;</th><th scope=col>&lt;chr&gt;</th><th scope=col>&lt;dbl&gt;</th></tr>\n",
       "</thead>\n",
       "<tbody>\n",
       "\t<tr><td>casual</td><td>Friday   </td><td>1682.6395</td></tr>\n",
       "\t<tr><td>member</td><td>Friday   </td><td> 751.8412</td></tr>\n",
       "\t<tr><td>casual</td><td>Monday   </td><td>1751.2163</td></tr>\n",
       "\t<tr><td>member</td><td>Monday   </td><td> 736.1996</td></tr>\n",
       "\t<tr><td>casual</td><td>Saturday </td><td>1956.8227</td></tr>\n",
       "\t<tr><td>member</td><td>Saturday </td><td> 848.3884</td></tr>\n",
       "\t<tr><td>casual</td><td>Sunday   </td><td>2043.2066</td></tr>\n",
       "\t<tr><td>member</td><td>Sunday   </td><td> 841.7481</td></tr>\n",
       "\t<tr><td>casual</td><td>Thursday </td><td>1532.8592</td></tr>\n",
       "\t<tr><td>member</td><td>Thursday </td><td> 737.5357</td></tr>\n",
       "\t<tr><td>casual</td><td>Tuesday  </td><td>1549.1046</td></tr>\n",
       "\t<tr><td>member</td><td>Tuesday  </td><td> 727.7246</td></tr>\n",
       "\t<tr><td>casual</td><td>Wednesday</td><td>1485.0507</td></tr>\n",
       "\t<tr><td>member</td><td>Wednesday</td><td> 725.1048</td></tr>\n",
       "</tbody>\n",
       "</table>\n"
      ],
      "text/latex": [
       "A data.frame: 14 × 3\n",
       "\\begin{tabular}{lll}\n",
       " y2022\\$member\\_casual & y2022\\$day\\_of\\_week & y2022\\$ride\\_length\\\\\n",
       " <chr> & <chr> & <dbl>\\\\\n",
       "\\hline\n",
       "\t casual & Friday    & 1682.6395\\\\\n",
       "\t member & Friday    &  751.8412\\\\\n",
       "\t casual & Monday    & 1751.2163\\\\\n",
       "\t member & Monday    &  736.1996\\\\\n",
       "\t casual & Saturday  & 1956.8227\\\\\n",
       "\t member & Saturday  &  848.3884\\\\\n",
       "\t casual & Sunday    & 2043.2066\\\\\n",
       "\t member & Sunday    &  841.7481\\\\\n",
       "\t casual & Thursday  & 1532.8592\\\\\n",
       "\t member & Thursday  &  737.5357\\\\\n",
       "\t casual & Tuesday   & 1549.1046\\\\\n",
       "\t member & Tuesday   &  727.7246\\\\\n",
       "\t casual & Wednesday & 1485.0507\\\\\n",
       "\t member & Wednesday &  725.1048\\\\\n",
       "\\end{tabular}\n"
      ],
      "text/markdown": [
       "\n",
       "A data.frame: 14 × 3\n",
       "\n",
       "| y2022$member_casual &lt;chr&gt; | y2022$day_of_week &lt;chr&gt; | y2022$ride_length &lt;dbl&gt; |\n",
       "|---|---|---|\n",
       "| casual | Friday    | 1682.6395 |\n",
       "| member | Friday    |  751.8412 |\n",
       "| casual | Monday    | 1751.2163 |\n",
       "| member | Monday    |  736.1996 |\n",
       "| casual | Saturday  | 1956.8227 |\n",
       "| member | Saturday  |  848.3884 |\n",
       "| casual | Sunday    | 2043.2066 |\n",
       "| member | Sunday    |  841.7481 |\n",
       "| casual | Thursday  | 1532.8592 |\n",
       "| member | Thursday  |  737.5357 |\n",
       "| casual | Tuesday   | 1549.1046 |\n",
       "| member | Tuesday   |  727.7246 |\n",
       "| casual | Wednesday | 1485.0507 |\n",
       "| member | Wednesday |  725.1048 |\n",
       "\n"
      ],
      "text/plain": [
       "   y2022$member_casual y2022$day_of_week y2022$ride_length\n",
       "1  casual              Friday            1682.6395        \n",
       "2  member              Friday             751.8412        \n",
       "3  casual              Monday            1751.2163        \n",
       "4  member              Monday             736.1996        \n",
       "5  casual              Saturday          1956.8227        \n",
       "6  member              Saturday           848.3884        \n",
       "7  casual              Sunday            2043.2066        \n",
       "8  member              Sunday             841.7481        \n",
       "9  casual              Thursday          1532.8592        \n",
       "10 member              Thursday           737.5357        \n",
       "11 casual              Tuesday           1549.1046        \n",
       "12 member              Tuesday            727.7246        \n",
       "13 casual              Wednesday         1485.0507        \n",
       "14 member              Wednesday          725.1048        "
      ]
     },
     "metadata": {},
     "output_type": "display_data"
    }
   ],
   "source": [
    "summary(y2022$ride_length)\n",
    "aggregate(y2022$ride_length ~ y2022$member_casual, FUN = mean)\n",
    "aggregate(y2022$ride_length ~ y2022$member_casual, FUN = median)\n",
    "aggregate(y2022$ride_length ~ y2022$member_casual, FUN = max)\n",
    "aggregate(y2022$ride_length ~ y2022$member_casual, FUN = min)\n",
    "aggregate(y2022$ride_length ~ y2022$member_casual + y2022$day_of_week, FUN = mean)"
   ]
  },
  {
   "cell_type": "markdown",
   "id": "871f2827",
   "metadata": {
    "papermill": {
     "duration": 0.008369,
     "end_time": "2023-03-28T14:27:16.135863",
     "exception": false,
     "start_time": "2023-03-28T14:27:16.127494",
     "status": "completed"
    },
    "tags": []
   },
   "source": [
    "I ordered the days of the week so it's easier to visualize."
   ]
  },
  {
   "cell_type": "code",
   "execution_count": 7,
   "id": "97a3ea9e",
   "metadata": {
    "execution": {
     "iopub.execute_input": "2023-03-28T14:27:16.156448Z",
     "iopub.status.busy": "2023-03-28T14:27:16.154999Z",
     "iopub.status.idle": "2023-03-28T14:27:22.322576Z",
     "shell.execute_reply": "2023-03-28T14:27:22.320976Z"
    },
    "papermill": {
     "duration": 6.18026,
     "end_time": "2023-03-28T14:27:22.324732",
     "exception": false,
     "start_time": "2023-03-28T14:27:16.144472",
     "status": "completed"
    },
    "tags": []
   },
   "outputs": [
    {
     "data": {
      "text/html": [
       "<table class=\"dataframe\">\n",
       "<caption>A data.frame: 14 × 3</caption>\n",
       "<thead>\n",
       "\t<tr><th scope=col>y2022$member_casual</th><th scope=col>y2022$day_of_week</th><th scope=col>y2022$ride_length</th></tr>\n",
       "\t<tr><th scope=col>&lt;chr&gt;</th><th scope=col>&lt;ord&gt;</th><th scope=col>&lt;dbl&gt;</th></tr>\n",
       "</thead>\n",
       "<tbody>\n",
       "\t<tr><td>casual</td><td>Sunday   </td><td>2043.2066</td></tr>\n",
       "\t<tr><td>member</td><td>Sunday   </td><td> 841.7481</td></tr>\n",
       "\t<tr><td>casual</td><td>Monday   </td><td>1751.2163</td></tr>\n",
       "\t<tr><td>member</td><td>Monday   </td><td> 736.1996</td></tr>\n",
       "\t<tr><td>casual</td><td>Tuesday  </td><td>1549.1046</td></tr>\n",
       "\t<tr><td>member</td><td>Tuesday  </td><td> 727.7246</td></tr>\n",
       "\t<tr><td>casual</td><td>Wednesday</td><td>1485.0507</td></tr>\n",
       "\t<tr><td>member</td><td>Wednesday</td><td> 725.1048</td></tr>\n",
       "\t<tr><td>casual</td><td>Thursday </td><td>1532.8592</td></tr>\n",
       "\t<tr><td>member</td><td>Thursday </td><td> 737.5357</td></tr>\n",
       "\t<tr><td>casual</td><td>Friday   </td><td>1682.6395</td></tr>\n",
       "\t<tr><td>member</td><td>Friday   </td><td> 751.8412</td></tr>\n",
       "\t<tr><td>casual</td><td>Saturday </td><td>1956.8227</td></tr>\n",
       "\t<tr><td>member</td><td>Saturday </td><td> 848.3884</td></tr>\n",
       "</tbody>\n",
       "</table>\n"
      ],
      "text/latex": [
       "A data.frame: 14 × 3\n",
       "\\begin{tabular}{lll}\n",
       " y2022\\$member\\_casual & y2022\\$day\\_of\\_week & y2022\\$ride\\_length\\\\\n",
       " <chr> & <ord> & <dbl>\\\\\n",
       "\\hline\n",
       "\t casual & Sunday    & 2043.2066\\\\\n",
       "\t member & Sunday    &  841.7481\\\\\n",
       "\t casual & Monday    & 1751.2163\\\\\n",
       "\t member & Monday    &  736.1996\\\\\n",
       "\t casual & Tuesday   & 1549.1046\\\\\n",
       "\t member & Tuesday   &  727.7246\\\\\n",
       "\t casual & Wednesday & 1485.0507\\\\\n",
       "\t member & Wednesday &  725.1048\\\\\n",
       "\t casual & Thursday  & 1532.8592\\\\\n",
       "\t member & Thursday  &  737.5357\\\\\n",
       "\t casual & Friday    & 1682.6395\\\\\n",
       "\t member & Friday    &  751.8412\\\\\n",
       "\t casual & Saturday  & 1956.8227\\\\\n",
       "\t member & Saturday  &  848.3884\\\\\n",
       "\\end{tabular}\n"
      ],
      "text/markdown": [
       "\n",
       "A data.frame: 14 × 3\n",
       "\n",
       "| y2022$member_casual &lt;chr&gt; | y2022$day_of_week &lt;ord&gt; | y2022$ride_length &lt;dbl&gt; |\n",
       "|---|---|---|\n",
       "| casual | Sunday    | 2043.2066 |\n",
       "| member | Sunday    |  841.7481 |\n",
       "| casual | Monday    | 1751.2163 |\n",
       "| member | Monday    |  736.1996 |\n",
       "| casual | Tuesday   | 1549.1046 |\n",
       "| member | Tuesday   |  727.7246 |\n",
       "| casual | Wednesday | 1485.0507 |\n",
       "| member | Wednesday |  725.1048 |\n",
       "| casual | Thursday  | 1532.8592 |\n",
       "| member | Thursday  |  737.5357 |\n",
       "| casual | Friday    | 1682.6395 |\n",
       "| member | Friday    |  751.8412 |\n",
       "| casual | Saturday  | 1956.8227 |\n",
       "| member | Saturday  |  848.3884 |\n",
       "\n"
      ],
      "text/plain": [
       "   y2022$member_casual y2022$day_of_week y2022$ride_length\n",
       "1  casual              Sunday            2043.2066        \n",
       "2  member              Sunday             841.7481        \n",
       "3  casual              Monday            1751.2163        \n",
       "4  member              Monday             736.1996        \n",
       "5  casual              Tuesday           1549.1046        \n",
       "6  member              Tuesday            727.7246        \n",
       "7  casual              Wednesday         1485.0507        \n",
       "8  member              Wednesday          725.1048        \n",
       "9  casual              Thursday          1532.8592        \n",
       "10 member              Thursday           737.5357        \n",
       "11 casual              Friday            1682.6395        \n",
       "12 member              Friday             751.8412        \n",
       "13 casual              Saturday          1956.8227        \n",
       "14 member              Saturday           848.3884        "
      ]
     },
     "metadata": {},
     "output_type": "display_data"
    }
   ],
   "source": [
    "y2022$day_of_week <- ordered(y2022$day_of_week, levels=c(\"Sunday\", \"Monday\", \"Tuesday\", \"Wednesday\", \"Thursday\", \"Friday\", \"Saturday\"))\n",
    "aggregate(y2022$ride_length ~ y2022$member_casual + y2022$day_of_week, FUN = mean)"
   ]
  },
  {
   "cell_type": "markdown",
   "id": "bb3578f4",
   "metadata": {
    "papermill": {
     "duration": 0.008947,
     "end_time": "2023-03-28T14:27:22.342570",
     "exception": false,
     "start_time": "2023-03-28T14:27:22.333623",
     "status": "completed"
    },
    "tags": []
   },
   "source": [
    "## Share Phase: \n",
    "\n",
    "Now it's time to start visualizing the data of the first part.\n",
    "\n",
    "This is a visualization for the number of rides by rider type."
   ]
  },
  {
   "cell_type": "code",
   "execution_count": 8,
   "id": "96690c60",
   "metadata": {
    "execution": {
     "iopub.execute_input": "2023-03-28T14:27:22.364269Z",
     "iopub.status.busy": "2023-03-28T14:27:22.362746Z",
     "iopub.status.idle": "2023-03-28T14:27:38.657436Z",
     "shell.execute_reply": "2023-03-28T14:27:38.655668Z"
    },
    "papermill": {
     "duration": 16.308599,
     "end_time": "2023-03-28T14:27:38.660033",
     "exception": false,
     "start_time": "2023-03-28T14:27:22.351434",
     "status": "completed"
    },
    "tags": []
   },
   "outputs": [
    {
     "name": "stderr",
     "output_type": "stream",
     "text": [
      "\u001b[1m\u001b[22m`summarise()` has grouped output by 'member_casual'. You can override using the\n",
      "`.groups` argument.\n"
     ]
    },
    {
     "data": {
      "image/png": "[encoded data removed]"
     },
     "metadata": {
      "image/png": {
       "height": 420,
       "width": 420
      }
     },
     "output_type": "display_data"
    }
   ],
   "source": [
    "y2022 %>%\n",
    "    mutate(weekday = wday(started_at, label = TRUE)) %>%\n",
    "        group_by(member_casual, weekday) %>%\n",
    "            summarise(number_of_rides = n()\n",
    "            ,average_duration = mean(ride_length)) %>%\n",
    "                arrange(member_casual, weekday)  %>%\n",
    "                    ggplot(aes(x = weekday, y = number_of_rides, fill = member_casual)) +\n",
    "                    geom_col(position = \"dodge\")"
   ]
  },
  {
   "cell_type": "markdown",
   "id": "f52f7dca",
   "metadata": {
    "papermill": {
     "duration": 0.009571,
     "end_time": "2023-03-28T14:27:38.679311",
     "exception": false,
     "start_time": "2023-03-28T14:27:38.669740",
     "status": "completed"
    },
    "tags": []
   },
   "source": [
    "And this is for the average duration"
   ]
  },
  {
   "cell_type": "code",
   "execution_count": 9,
   "id": "e6eac994",
   "metadata": {
    "execution": {
     "iopub.execute_input": "2023-03-28T14:27:38.701956Z",
     "iopub.status.busy": "2023-03-28T14:27:38.700418Z",
     "iopub.status.idle": "2023-03-28T14:27:59.571001Z",
     "shell.execute_reply": "2023-03-28T14:27:59.569368Z"
    },
    "papermill": {
     "duration": 20.885464,
     "end_time": "2023-03-28T14:27:59.574172",
     "exception": false,
     "start_time": "2023-03-28T14:27:38.688708",
     "status": "completed"
    },
    "tags": []
   },
   "outputs": [
    {
     "name": "stderr",
     "output_type": "stream",
     "text": [
      "\u001b[1m\u001b[22m`summarise()` has grouped output by 'member_casual'. You can override using the\n",
      "`.groups` argument.\n"
     ]
    },
    {
     "data": {
      "image/png": "[encoded data removed]"
     },
     "metadata": {
      "image/png": {
       "height": 420,
       "width": 420
      }
     },
     "output_type": "display_data"
    }
   ],
   "source": [
    "y2022 %>%\n",
    "    mutate(weekday = wday(started_at, label = TRUE)) %>%\n",
    "        group_by(member_casual, weekday) %>%\n",
    "            summarise(number_of_rides = n()\n",
    "            ,average_duration = mean(ride_length)) %>%\n",
    "                arrange(member_casual, weekday)  %>%\n",
    "                    ggplot(aes(x = weekday, y = average_duration, fill = member_casual)) +\n",
    "                    geom_col(position = \"dodge\")"
   ]
  },
  {
   "cell_type": "markdown",
   "id": "acc29f25",
   "metadata": {
    "papermill": {
     "duration": 0.010504,
     "end_time": "2023-03-28T14:27:59.595327",
     "exception": false,
     "start_time": "2023-03-28T14:27:59.584823",
     "status": "completed"
    },
    "tags": []
   },
   "source": [
    "After viewing the graphs it's easy to find some trends in the data.\n",
    "We can see members ride more times each day but the average duration is less.\n",
    "This gives us an idea of what we can do to make more casual people become members."
   ]
  },
  {
   "cell_type": "code",
   "execution_count": 10,
   "id": "a07ef2f3",
   "metadata": {
    "execution": {
     "iopub.execute_input": "2023-03-28T14:27:59.618915Z",
     "iopub.status.busy": "2023-03-28T14:27:59.617363Z",
     "iopub.status.idle": "2023-03-28T14:28:10.593070Z",
     "shell.execute_reply": "2023-03-28T14:28:10.591435Z"
    },
    "papermill": {
     "duration": 10.990458,
     "end_time": "2023-03-28T14:28:10.595743",
     "exception": false,
     "start_time": "2023-03-28T14:27:59.605285",
     "status": "completed"
    },
    "tags": []
   },
   "outputs": [
    {
     "data": {
      "text/html": [
       "<table class=\"dataframe\">\n",
       "<caption>A data.frame: 14 × 3</caption>\n",
       "<thead>\n",
       "\t<tr><th scope=col>y2022$member_casual</th><th scope=col>y2022$day_of_week</th><th scope=col>y2022$ride_length</th></tr>\n",
       "\t<tr><th scope=col>&lt;chr&gt;</th><th scope=col>&lt;ord&gt;</th><th scope=col>&lt;dbl&gt;</th></tr>\n",
       "</thead>\n",
       "<tbody>\n",
       "\t<tr><td>casual</td><td>Sunday   </td><td>2043.2066</td></tr>\n",
       "\t<tr><td>member</td><td>Sunday   </td><td> 841.7481</td></tr>\n",
       "\t<tr><td>casual</td><td>Monday   </td><td>1751.2163</td></tr>\n",
       "\t<tr><td>member</td><td>Monday   </td><td> 736.1996</td></tr>\n",
       "\t<tr><td>casual</td><td>Tuesday  </td><td>1549.1046</td></tr>\n",
       "\t<tr><td>member</td><td>Tuesday  </td><td> 727.7246</td></tr>\n",
       "\t<tr><td>casual</td><td>Wednesday</td><td>1485.0507</td></tr>\n",
       "\t<tr><td>member</td><td>Wednesday</td><td> 725.1048</td></tr>\n",
       "\t<tr><td>casual</td><td>Thursday </td><td>1532.8592</td></tr>\n",
       "\t<tr><td>member</td><td>Thursday </td><td> 737.5357</td></tr>\n",
       "\t<tr><td>casual</td><td>Friday   </td><td>1682.6395</td></tr>\n",
       "\t<tr><td>member</td><td>Friday   </td><td> 751.8412</td></tr>\n",
       "\t<tr><td>casual</td><td>Saturday </td><td>1956.8227</td></tr>\n",
       "\t<tr><td>member</td><td>Saturday </td><td> 848.3884</td></tr>\n",
       "</tbody>\n",
       "</table>\n"
      ],
      "text/latex": [
       "A data.frame: 14 × 3\n",
       "\\begin{tabular}{lll}\n",
       " y2022\\$member\\_casual & y2022\\$day\\_of\\_week & y2022\\$ride\\_length\\\\\n",
       " <chr> & <ord> & <dbl>\\\\\n",
       "\\hline\n",
       "\t casual & Sunday    & 2043.2066\\\\\n",
       "\t member & Sunday    &  841.7481\\\\\n",
       "\t casual & Monday    & 1751.2163\\\\\n",
       "\t member & Monday    &  736.1996\\\\\n",
       "\t casual & Tuesday   & 1549.1046\\\\\n",
       "\t member & Tuesday   &  727.7246\\\\\n",
       "\t casual & Wednesday & 1485.0507\\\\\n",
       "\t member & Wednesday &  725.1048\\\\\n",
       "\t casual & Thursday  & 1532.8592\\\\\n",
       "\t member & Thursday  &  737.5357\\\\\n",
       "\t casual & Friday    & 1682.6395\\\\\n",
       "\t member & Friday    &  751.8412\\\\\n",
       "\t casual & Saturday  & 1956.8227\\\\\n",
       "\t member & Saturday  &  848.3884\\\\\n",
       "\\end{tabular}\n"
      ],
      "text/markdown": [
       "\n",
       "A data.frame: 14 × 3\n",
       "\n",
       "| y2022$member_casual &lt;chr&gt; | y2022$day_of_week &lt;ord&gt; | y2022$ride_length &lt;dbl&gt; |\n",
       "|---|---|---|\n",
       "| casual | Sunday    | 2043.2066 |\n",
       "| member | Sunday    |  841.7481 |\n",
       "| casual | Monday    | 1751.2163 |\n",
       "| member | Monday    |  736.1996 |\n",
       "| casual | Tuesday   | 1549.1046 |\n",
       "| member | Tuesday   |  727.7246 |\n",
       "| casual | Wednesday | 1485.0507 |\n",
       "| member | Wednesday |  725.1048 |\n",
       "| casual | Thursday  | 1532.8592 |\n",
       "| member | Thursday  |  737.5357 |\n",
       "| casual | Friday    | 1682.6395 |\n",
       "| member | Friday    |  751.8412 |\n",
       "| casual | Saturday  | 1956.8227 |\n",
       "| member | Saturday  |  848.3884 |\n",
       "\n"
      ],
      "text/plain": [
       "   y2022$member_casual y2022$day_of_week y2022$ride_length\n",
       "1  casual              Sunday            2043.2066        \n",
       "2  member              Sunday             841.7481        \n",
       "3  casual              Monday            1751.2163        \n",
       "4  member              Monday             736.1996        \n",
       "5  casual              Tuesday           1549.1046        \n",
       "6  member              Tuesday            727.7246        \n",
       "7  casual              Wednesday         1485.0507        \n",
       "8  member              Wednesday          725.1048        \n",
       "9  casual              Thursday          1532.8592        \n",
       "10 member              Thursday           737.5357        \n",
       "11 casual              Friday            1682.6395        \n",
       "12 member              Friday             751.8412        \n",
       "13 casual              Saturday          1956.8227        \n",
       "14 member              Saturday           848.3884        "
      ]
     },
     "metadata": {},
     "output_type": "display_data"
    }
   ],
   "source": [
    "counts <- aggregate(y2022$ride_length ~ y2022$member_casual + y2022$day_of_week, FUN = mean)\n",
    "View(counts)\n",
    "write.csv(counts,\"counts.csv\")"
   ]
  },
  {
   "cell_type": "markdown",
   "id": "d2ac0460",
   "metadata": {
    "papermill": {
     "duration": 0.010101,
     "end_time": "2023-03-28T14:28:10.616108",
     "exception": false,
     "start_time": "2023-03-28T14:28:10.606007",
     "status": "completed"
    },
    "tags": []
   },
   "source": [
    "### Conclusion:\n",
    "As we saw in the graphs casual riders use Cyclistic in specific times of the year.\n",
    "The members use it more regularly for shorter trips but casual users have long time trips once in a while.\n",
    "\n",
    "#### Idea:\n",
    "I'd recommend Cyclistic to make a membership for people that don't want to use the bikes regularly. Like a membership for the times a month you'll use the bike or the time you'll use it.\n",
    "\n",
    "To end this project I'll link a presentation I prepared for this capstone [here](https://docs.google.com/presentation/d/16K2SSbp8t2CQKpR3XLP2AjaIc76IoRN2/edit?usp=sharing&ouid=106345296587363198136&rtpof=true&sd=true)."
   ]
  }
 ],
 "metadata": {
  "kernelspec": {
   "display_name": "R",
   "language": "R",
   "name": "ir"
  },
  "language_info": {
   "codemirror_mode": "r",
   "file_extension": ".r",
   "mimetype": "text/x-r-source",
   "name": "R",
   "pygments_lexer": "r",
   "version": "4.0.5"
  },
  "papermill": {
   "default_parameters": {},
   "duration": 280.594415,
   "end_time": "2023-03-28T14:28:10.948223",
   "environment_variables": {},
   "exception": null,
   "input_path": "__notebook__.ipynb",
   "output_path": "__notebook__.ipynb",
   "parameters": {},
   "start_time": "2023-03-28T14:23:30.353808",
   "version": "2.4.0"
  }
 },
 "nbformat": 4,
 "nbformat_minor": 5
}
